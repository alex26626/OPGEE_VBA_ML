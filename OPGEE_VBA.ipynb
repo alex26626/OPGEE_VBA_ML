{
 "cells": [
  {
   "cell_type": "markdown",
   "id": "c66ebc24",
   "metadata": {},
   "source": [
    "# VBA Automation "
   ]
  },
  {
   "cell_type": "code",
   "execution_count": 1,
   "id": "c67d8fd3",
   "metadata": {},
   "outputs": [],
   "source": [
    "import xlwings as xw\n",
    "import pandas as pd\n",
    "import numpy as np\n",
    "import string\n",
    "from tqdm import tqdm\n",
    "import time\n",
    "import sys\n",
    "import os\n",
    "import matplotlib.pyplot as plt\n",
    "\n",
    "from scipy.stats.mstats import winsorize\n",
    "import seaborn as sns"
   ]
  },
  {
   "cell_type": "markdown",
   "id": "12db1160",
   "metadata": {},
   "source": [
    "The cell below needs to be run as a preparation for the computation of the emissions."
   ]
  },
  {
   "cell_type": "code",
   "execution_count": null,
   "id": "86b4e807",
   "metadata": {},
   "outputs": [],
   "source": [
    "app = xw.App(visible=False)\n",
    "\n",
    "opgee_file = xw.books.open('C:/Users/jing/Documents/Bocconi/DSBA/OPGEE/OPGEE_3.0b_BETA.xlsm') #Insert the path to the OPGEE VBA file\n",
    "inputs_file = pd.read_excel('C:/Users/jing/Documents/Bocconi/DSBA/OPGEE/field_data_for_opgee.xlsx') #Insert the path to the inputs file\n",
    "all_fields = inputs_file[inputs_file['production'] != 0].reset_index(drop = True) #Filter out fields with null production\n",
    "\n",
    "all_letters = [letter for letter in string.ascii_uppercase]\n",
    "double_letters = []\n",
    "for first_letter in tqdm(all_letters):\n",
    "    for second_letter in all_letters:\n",
    "        double_letters.append(first_letter + second_letter)\n",
    "all_letters += double_letters\n",
    "all_letters = all_letters[all_letters.index('I'):all_letters.index('SM')+1]"
   ]
  },
  {
   "cell_type": "markdown",
   "id": "3800960f",
   "metadata": {},
   "source": [
    "The code below allows to take the fields inputs from a separate file, and to put them in the VBA OPGEE file to then run it. \n",
    "Given that it is possible to run the VBA code with at most 499 fields, it is possible to set two variables:\n",
    "- n_fields: the number of fields to be filled in.\n",
    "- n_iterations: the number of times the VBA file is run.\n",
    "\n",
    "For instance, if n_fields = 499, and n_iterations = 3, then overall the emissions of 499x3 fields are computed.\n",
    "For each iteration, a new file is generated, which contains the fields characteristics with their respective computed emissions. The file name is OPGEE_Data_n.csv, where n is the index of the file. \n",
    "The code automatically detects how many emissions have already been computed, and it starts from the appropriate field. For instance, if 3 files have already been generated with 20 fields each, then the code will start from the 61th field. "
   ]
  },
  {
   "cell_type": "code",
   "execution_count": null,
   "id": "dd22b0f1",
   "metadata": {},
   "outputs": [],
   "source": [
    "n_iterations = 1\n",
    "n_fields = 499\n",
    "running_times = []\n",
    "\n",
    "for j in tqdm(range(n_iterations)):\n",
    "    all_files = os.listdir()\n",
    "    already_opgee = pd.DataFrame()\n",
    "    last_index = 0\n",
    "\n",
    "    for i in range(len(all_files)):\n",
    "        if all_files[i][:10] == 'OPGEE_Data':\n",
    "            last_index += 1\n",
    "            already_opgee = pd.concat([already_opgee, pd.read_csv(all_files[i])])\n",
    "\n",
    "    shift = already_opgee.shape[0]\n",
    "    \n",
    "    if (all_fields.shape[0] - shift - n_fields)//499 <= 0:\n",
    "        n_fields = (all_fields.shape[0] - shift - n_fields) % 499\n",
    "    \n",
    "    x_data = all_fields.loc[shift : shift + n_fields - 1, ['country_name', 'field_name', 'field_age', 'field_depth', 'production', 'offshore', 'api', 'h2s']]\n",
    "    x_data['Emission'] = 0\n",
    "\n",
    "    opgee_file = xw.books.open('C:/Users/jing/Documents/Bocconi/DSBA/OPGEE/OPGEE_3.0b_BETA.xlsm') #Insert the path to the OPGEE VBA file\n",
    "    inputs_file = pd.read_excel('C:/Users/jing/Documents/Bocconi/DSBA/OPGEE/field_data_for_opgee.xlsx') #Insert the path to the inputs file\n",
    "    inputs_sheet = opgee_file.sheets('Inputs')\n",
    "    results_sheet = opgee_file.sheets('Results')\n",
    "    production_methods_default = inputs_sheet.range('G9:G17').value\n",
    "\n",
    "    for i in range(n_fields):\n",
    "        col = all_letters[i]\n",
    "        inputs_sheet.range(f'{col}9:{col}17').value = production_methods_default\n",
    "        inputs_sheet.range(f'{col}20').value = all_fields.loc[i + shift, 'country_name']\n",
    "        inputs_sheet.range(f'{col}21').value = all_fields.loc[i + shift, 'field_name']\n",
    "        inputs_sheet.range(f'{col}22').value = all_fields.loc[i + shift, 'field_age']\n",
    "        inputs_sheet.range(f'{col}23').value = all_fields.loc[i + shift, 'field_depth']\n",
    "        inputs_sheet.range(f'{col}24').value = all_fields.loc[i + shift, 'production']\n",
    "        inputs_sheet.range(f'{col}31').value = all_fields.loc[i + shift, 'offshore']\n",
    "        inputs_sheet.range(f'{col}34').value = all_fields.loc[i + shift, 'api']\n",
    "        inputs_sheet.range(f'{col}42').value = all_fields.loc[i + shift, 'h2s']\n",
    "\n",
    "    inputs_sheet.range('C2').value = n_fields + 1\n",
    "\n",
    "    start_time = time.time()\n",
    "    trial_macro = opgee_file.macro('BulkAssessment.UltraBulk_assessment')\n",
    "    trial_macro()\n",
    "    end_time = time.time()\n",
    "    running_times.append((end_time - start_time)/60)\n",
    "\n",
    "    end_bound = all_letters[n_fields-1]\n",
    "    emissions = results_sheet.range(f'I193:{end_bound}193').value\n",
    "    x_data['Emission'] = emissions\n",
    "    x_data.to_csv(f'OPGEE_Data_{last_index}.csv')\n",
    "\n",
    "    opgee_file.close()"
   ]
  },
  {
   "cell_type": "markdown",
   "id": "ccd2aa1b",
   "metadata": {},
   "source": [
    "The cell below needs to be run once all the emissions have been computed and all the files have been generated. \n",
    "It simply concatenates all the files to then generate a single file named OPGEE_Data.csv."
   ]
  },
  {
   "cell_type": "code",
   "execution_count": null,
   "id": "5bd46f06",
   "metadata": {},
   "outputs": [],
   "source": [
    "all_files = os.listdir()\n",
    "opgee = pd.DataFrame()\n",
    "\n",
    "for i in range(len(all_files)):\n",
    "    if all_files[i][:10] == 'OPGEE_Data':\n",
    "        opgee = pd.concat([opgee, pd.read_csv(all_files[i])])\n",
    "\n",
    "opgee = opgee.drop('Unnamed: 0', axis = 1)\n",
    "opgee.to_csv('OPGEE_Data.csv')"
   ]
  }
 ],
 "metadata": {
  "kernelspec": {
   "display_name": "Python 3",
   "language": "python",
   "name": "python3"
  },
  "language_info": {
   "codemirror_mode": {
    "name": "ipython",
    "version": 3
   },
   "file_extension": ".py",
   "mimetype": "text/x-python",
   "name": "python",
   "nbconvert_exporter": "python",
   "pygments_lexer": "ipython3",
   "version": "3.8.8"
  }
 },
 "nbformat": 4,
 "nbformat_minor": 5
}
