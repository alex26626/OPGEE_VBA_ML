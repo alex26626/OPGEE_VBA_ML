{
 "cells": [
  {
   "cell_type": "markdown",
   "id": "5e47dab6",
   "metadata": {},
   "source": [
    "# Emissions Prediction"
   ]
  },
  {
   "cell_type": "code",
   "execution_count": 1,
   "id": "49b53cfc",
   "metadata": {},
   "outputs": [],
   "source": [
    "import xlwings as xw\n",
    "import pandas as pd\n",
    "import numpy as np\n",
    "import string\n",
    "from tqdm import tqdm\n",
    "import time\n",
    "import sys\n",
    "import os\n",
    "import matplotlib.pyplot as plt\n",
    "\n",
    "from scipy.stats.mstats import winsorize\n",
    "import seaborn as sns"
   ]
  },
  {
   "cell_type": "code",
   "execution_count": 2,
   "id": "c69992a9",
   "metadata": {},
   "outputs": [],
   "source": [
    "from sklearn.metrics import get_scorer_names\n",
    "from sklearn.model_selection import cross_val_score\n",
    "from sklearn.model_selection import RepeatedStratifiedKFold\n",
    "from sklearn.model_selection import train_test_split\n",
    "from sklearn.model_selection import GridSearchCV\n",
    "from sklearn.tree import DecisionTreeRegressor\n",
    "from sklearn.ensemble import RandomForestRegressor\n",
    "from sklearn.neighbors import KNeighborsRegressor\n",
    "from sklearn.ensemble import BaggingRegressor\n",
    "from sklearn.neural_network import MLPRegressor"
   ]
  },
  {
   "cell_type": "code",
   "execution_count": 3,
   "id": "723ba1f1",
   "metadata": {},
   "outputs": [],
   "source": [
    "def mean_squared_error(y_true, y_pred):\n",
    "    return np.mean((y_true - y_pred)**2)"
   ]
  },
  {
   "cell_type": "code",
   "execution_count": 4,
   "id": "cea73b3f",
   "metadata": {},
   "outputs": [],
   "source": [
    "def cross_validation(x, y, n = 7, model = RandomForestRegressor()):\n",
    "    sample = len(x)//n\n",
    "    \n",
    "    mean_importances = np.zeros(shape = x.shape[1])\n",
    "    mses = []\n",
    "    all_preds = np.zeros(shape = len(y))\n",
    "    all_indexes = np.arange(len(x))\n",
    "\n",
    "    for i in tqdm(range(n)):\n",
    "        test_indexes = np.random.choice(all_indexes, size = sample, replace = False)\n",
    "        train_indexes = [j for j in range(len(y)) if j not in test_indexes]\n",
    "        train_x = x[train_indexes]\n",
    "        test_x = x[test_indexes]\n",
    "\n",
    "        train_y = y[train_indexes]\n",
    "        test_y = y[test_indexes]\n",
    "\n",
    "        model.fit(train_x, train_y)\n",
    "        try:\n",
    "            mean_importances += model.feature_importances_\n",
    "        except:\n",
    "            pass\n",
    "        preds = model.predict(test_x)\n",
    "        all_preds[len(test_x)*i:len(test_x)*(i+1)] = preds\n",
    "        \n",
    "        mse = mean_squared_error(test_y, preds)\n",
    "        mses.append(mse)\n",
    "                \n",
    "        all_indexes = list(all_indexes)\n",
    "        for index in test_indexes:\n",
    "            all_indexes.remove(index)\n",
    "        all_indexes = np.array(all_indexes)\n",
    "        \n",
    "    return np.array(mses), mean_importances/n"
   ]
  },
  {
   "cell_type": "code",
   "execution_count": 5,
   "id": "0af00908",
   "metadata": {},
   "outputs": [],
   "source": [
    "opgee = pd.read_csv('OPGEE_Training_Data.csv').drop('Unnamed: 0', axis = 1)"
   ]
  },
  {
   "cell_type": "code",
   "execution_count": 6,
   "id": "10757e3c",
   "metadata": {},
   "outputs": [
    {
     "name": "stderr",
     "output_type": "stream",
     "text": [
      "100%|████████████████████████████████████████████████████████████████████████████████████| 7/7 [00:51<00:00,  7.38s/it]"
     ]
    },
    {
     "name": "stdout",
     "output_type": "stream",
     "text": [
      "Mean MSE: 0.0020071410330203543\n",
      "Std MSE: 0.0003918287287546191\n"
     ]
    },
    {
     "name": "stderr",
     "output_type": "stream",
     "text": [
      "\n"
     ]
    }
   ],
   "source": [
    "#All Regressors - Random Forest\n",
    "\n",
    "x = opgee.loc[:, ['field_age', 'field_depth', 'production', 'api', 'h2s', 'united_kingdom']]\n",
    "x = np.array(x).reshape(-1, 6)\n",
    "y = opgee['Winsorized Emission']\n",
    "\n",
    "mses_1, importances_1 = cross_validation(x,y)\n",
    "print(f'Mean MSE: {mses_1.mean()}')\n",
    "print(f'Std MSE: {mses_1.std()}')"
   ]
  },
  {
   "cell_type": "code",
   "execution_count": 7,
   "id": "2b47f0be",
   "metadata": {},
   "outputs": [
    {
     "data": {
      "image/png": "[encoded data removed]",
      "text/plain": [
       "<Figure size 432x288 with 1 Axes>"
      ]
     },
     "metadata": {
      "needs_background": "light"
     },
     "output_type": "display_data"
    }
   ],
   "source": [
    "plt.bar(['field_age', 'field_depth', 'production', 'api', 'h2s', 'united_kingdom'], importances_1, color = 'blue')\n",
    "plt.xticks(rotation = 90)\n",
    "plt.title('Feature Importances')\n",
    "plt.show()"
   ]
  }
 ],
 "metadata": {
  "kernelspec": {
   "display_name": "Python 3",
   "language": "python",
   "name": "python3"
  },
  "language_info": {
   "codemirror_mode": {
    "name": "ipython",
    "version": 3
   },
   "file_extension": ".py",
   "mimetype": "text/x-python",
   "name": "python",
   "nbconvert_exporter": "python",
   "pygments_lexer": "ipython3",
   "version": "3.8.8"
  }
 },
 "nbformat": 4,
 "nbformat_minor": 5
}
