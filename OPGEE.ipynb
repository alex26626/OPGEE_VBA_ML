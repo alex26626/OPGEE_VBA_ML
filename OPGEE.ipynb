{
 "cells": [
  {
   "cell_type": "code",
   "execution_count": 25,
   "id": "c0b56816",
   "metadata": {},
   "outputs": [],
   "source": [
    "import xlwings as xw\n",
    "import pandas as pd\n",
    "import numpy as np\n",
    "import string\n",
    "from tqdm import tqdm\n",
    "import time\n",
    "import sys\n",
    "import os\n",
    "import matplotlib.pyplot as plt\n",
    "\n",
    "from scipy.stats.mstats import winsorize\n",
    "import seaborn as sns"
   ]
  },
  {
   "cell_type": "code",
   "execution_count": 26,
   "id": "b35d8d19",
   "metadata": {},
   "outputs": [],
   "source": [
    "from sklearn.metrics import get_scorer_names\n",
    "from sklearn.model_selection import cross_val_score\n",
    "from sklearn.model_selection import RepeatedStratifiedKFold\n",
    "from sklearn.model_selection import train_test_split\n",
    "from sklearn.model_selection import GridSearchCV\n",
    "from sklearn.tree import DecisionTreeRegressor\n",
    "from sklearn.ensemble import RandomForestRegressor\n",
    "from sklearn.neighbors import KNeighborsRegressor\n",
    "from sklearn.ensemble import BaggingRegressor\n",
    "from sklearn.neural_network import MLPRegressor"
   ]
  },
  {
   "cell_type": "markdown",
   "id": "abbab454",
   "metadata": {},
   "source": [
    "# 1 - VBA Automation"
   ]
  },
  {
   "cell_type": "code",
   "execution_count": 57,
   "id": "2e858f62",
   "metadata": {},
   "outputs": [],
   "source": [
    "#app = xw.App(visible=True)\n",
    "opgee_file = xw.books.open('C:/Users/jing/Documents/Bocconi/DSBA/OPGEE/OPGEE_3.0b_BETA.xlsm')\n",
    "inputs_file = pd.read_excel('C:/Users/jing/Documents/Bocconi/DSBA/OPGEE/field_data_for_opgee.xlsx')"
   ]
  },
  {
   "cell_type": "code",
   "execution_count": 18,
   "id": "c84cd6a0",
   "metadata": {},
   "outputs": [
    {
     "name": "stderr",
     "output_type": "stream",
     "text": [
      "100%|███████████████████████████████████████████████████████████████████████████████| 26/26 [00:00<00:00, 26008.09it/s]\n"
     ]
    }
   ],
   "source": [
    "all_letters = [letter for letter in string.ascii_uppercase]\n",
    "double_letters = []\n",
    "for first_letter in tqdm(all_letters):\n",
    "    for second_letter in all_letters:\n",
    "        double_letters.append(first_letter + second_letter)\n",
    "all_letters += double_letters\n",
    "all_letters = all_letters[all_letters.index('I'):all_letters.index('SM')+1]"
   ]
  },
  {
   "cell_type": "code",
   "execution_count": 59,
   "id": "d4157435",
   "metadata": {},
   "outputs": [
    {
     "data": {
      "text/plain": [
       "6098"
      ]
     },
     "execution_count": 59,
     "metadata": {},
     "output_type": "execute_result"
    }
   ],
   "source": [
    "all_fields = inputs_file[inputs_file['production'] != 0].reset_index(drop = True)\n",
    "all_fields.shape[0]"
   ]
  },
  {
   "cell_type": "code",
   "execution_count": 77,
   "id": "8915463c",
   "metadata": {},
   "outputs": [
    {
     "data": {
      "text/plain": [
       "[1.0, 1.0, 1.0, 0.0, 0.0, 0.0, 0.0, 0.0, 0.0]"
      ]
     },
     "execution_count": 77,
     "metadata": {},
     "output_type": "execute_result"
    }
   ],
   "source": [
    "inputs_sheet = opgee_file.sheets('Inputs')\n",
    "results_sheet = opgee_file.sheets('Results')\n",
    "production_methods_default = inputs_sheet.range('G9:G17').value\n",
    "production_methods_default"
   ]
  },
  {
   "cell_type": "markdown",
   "id": "bd988100",
   "metadata": {},
   "source": [
    "## 1.1 - Single Field Attempt "
   ]
  },
  {
   "cell_type": "code",
   "execution_count": 40,
   "id": "385bb4b2",
   "metadata": {},
   "outputs": [],
   "source": [
    "j = 56\n",
    "inputs_sheet.range('I9:I17').value = production_methods_default\n",
    "inputs_sheet.range('I20').value = all_fields.loc[j, 'country_name']\n",
    "inputs_sheet.range('I21').value = all_fields.loc[j, 'field_name']\n",
    "inputs_sheet.range('I22').value = all_fields.loc[j, 'field_age']\n",
    "inputs_sheet.range('I23').value = all_fields.loc[j, 'field_depth']\n",
    "inputs_sheet.range('I24').value = all_fields.loc[j, 'production']\n",
    "inputs_sheet.range('I31').value = all_fields.loc[j, 'offshore']\n",
    "inputs_sheet.range('I34').value = all_fields.loc[j, 'api']\n",
    "inputs_sheet.range('I42').value = all_fields.loc[j, 'h2s']"
   ]
  },
  {
   "cell_type": "code",
   "execution_count": 41,
   "id": "b519ce7b",
   "metadata": {},
   "outputs": [],
   "source": [
    "inputs_sheet.range('C2').value = 2"
   ]
  },
  {
   "cell_type": "code",
   "execution_count": 42,
   "id": "c2473d91",
   "metadata": {},
   "outputs": [],
   "source": [
    "trial_macro = opgee_file.macro('BulkAssessment.UltraBulk_assessment')\n",
    "trial_macro()"
   ]
  },
  {
   "cell_type": "code",
   "execution_count": 43,
   "id": "a7c149ed",
   "metadata": {},
   "outputs": [
    {
     "data": {
      "text/plain": [
       "6.455794611911903"
      ]
     },
     "execution_count": 43,
     "metadata": {},
     "output_type": "execute_result"
    }
   ],
   "source": [
    "emission = results_sheet.range('I193').value\n",
    "emission"
   ]
  },
  {
   "cell_type": "markdown",
   "id": "146854c6",
   "metadata": {},
   "source": [
    "## 1.2 - Multiple Fields"
   ]
  },
  {
   "cell_type": "code",
   "execution_count": 78,
   "id": "5e85820f",
   "metadata": {},
   "outputs": [
    {
     "name": "stderr",
     "output_type": "stream",
     "text": [
      "100%|████████████████████████████████████████████████████████████████████████████████| 499/499 [31:45<00:00,  3.82s/it]\n"
     ]
    }
   ],
   "source": [
    "n_fields = 499\n",
    "\n",
    "x_data = all_fields.loc[:n_fields, ['country_name', 'field_name', 'field_age', 'field_depth', 'production', 'offshore', 'api', 'h2s']]\n",
    "\n",
    "for i in tqdm(range(n_fields)):\n",
    "    col = all_letters[i]\n",
    "    inputs_sheet.range(f'{col}9:{col}17').value = production_methods_default\n",
    "    inputs_sheet.range(f'{col}20').value = all_fields.loc[i, 'country_name']\n",
    "    inputs_sheet.range(f'{col}21').value = all_fields.loc[i, 'field_name']\n",
    "    inputs_sheet.range(f'{col}22').value = all_fields.loc[i, 'field_age']\n",
    "    inputs_sheet.range(f'{col}23').value = all_fields.loc[i, 'field_depth']\n",
    "    inputs_sheet.range(f'{col}24').value = all_fields.loc[i, 'production']\n",
    "    inputs_sheet.range(f'{col}31').value = all_fields.loc[i, 'offshore']\n",
    "    inputs_sheet.range(f'{col}34').value = all_fields.loc[i, 'api']\n",
    "    inputs_sheet.range(f'{col}42').value = all_fields.loc[i, 'h2s']"
   ]
  },
  {
   "cell_type": "code",
   "execution_count": 79,
   "id": "2209c61c",
   "metadata": {},
   "outputs": [],
   "source": [
    "inputs_sheet.range('C2').value = n_fields + 1"
   ]
  },
  {
   "cell_type": "code",
   "execution_count": 80,
   "id": "aef02f41",
   "metadata": {},
   "outputs": [
    {
     "name": "stdout",
     "output_type": "stream",
     "text": [
      "Total execution time for 499 fields: 222.63574557701747 minutes\n"
     ]
    }
   ],
   "source": [
    "start_time = time.time()\n",
    "trial_macro = opgee_file.macro('BulkAssessment.UltraBulk_assessment')\n",
    "trial_macro()\n",
    "end_time = time.time()\n",
    "print(f'Total execution time for {n_fields+1} fields: {(end_time - start_time)/60} minutes')"
   ]
  },
  {
   "cell_type": "code",
   "execution_count": 85,
   "id": "13be22f4",
   "metadata": {},
   "outputs": [],
   "source": [
    "x_data = all_fields.loc[:n_fields-1, ['country_name', 'field_name', 'field_age', 'field_depth', 'production', 'offshore', 'api', 'h2s']]\n",
    "end_bound = all_letters[n_fields-1]\n",
    "emissions = results_sheet.range(f'I193:{end_bound}193').value\n",
    "x_data['Emission'] = emissions"
   ]
  },
  {
   "cell_type": "code",
   "execution_count": 86,
   "id": "49c216f7",
   "metadata": {},
   "outputs": [
    {
     "data": {
      "text/html": [
       "<div>\n",
       "<style scoped>\n",
       "    .dataframe tbody tr th:only-of-type {\n",
       "        vertical-align: middle;\n",
       "    }\n",
       "\n",
       "    .dataframe tbody tr th {\n",
       "        vertical-align: top;\n",
       "    }\n",
       "\n",
       "    .dataframe thead th {\n",
       "        text-align: right;\n",
       "    }\n",
       "</style>\n",
       "<table border=\"1\" class=\"dataframe\">\n",
       "  <thead>\n",
       "    <tr style=\"text-align: right;\">\n",
       "      <th></th>\n",
       "      <th>country_name</th>\n",
       "      <th>field_name</th>\n",
       "      <th>field_age</th>\n",
       "      <th>field_depth</th>\n",
       "      <th>production</th>\n",
       "      <th>offshore</th>\n",
       "      <th>api</th>\n",
       "      <th>h2s</th>\n",
       "      <th>Emission</th>\n",
       "    </tr>\n",
       "  </thead>\n",
       "  <tbody>\n",
       "    <tr>\n",
       "      <th>0</th>\n",
       "      <td>United Kingdom</td>\n",
       "      <td>Alba</td>\n",
       "      <td>0.0</td>\n",
       "      <td>6000.65625</td>\n",
       "      <td>44000.0</td>\n",
       "      <td>1</td>\n",
       "      <td>19.4</td>\n",
       "      <td>1.25</td>\n",
       "      <td>5.427825</td>\n",
       "    </tr>\n",
       "    <tr>\n",
       "      <th>1</th>\n",
       "      <td>United Kingdom</td>\n",
       "      <td>Alba</td>\n",
       "      <td>1.0</td>\n",
       "      <td>6000.65625</td>\n",
       "      <td>69500.0</td>\n",
       "      <td>1</td>\n",
       "      <td>19.4</td>\n",
       "      <td>1.25</td>\n",
       "      <td>5.419328</td>\n",
       "    </tr>\n",
       "    <tr>\n",
       "      <th>2</th>\n",
       "      <td>United Kingdom</td>\n",
       "      <td>Alba</td>\n",
       "      <td>2.0</td>\n",
       "      <td>6000.65625</td>\n",
       "      <td>69930.0</td>\n",
       "      <td>1</td>\n",
       "      <td>19.4</td>\n",
       "      <td>1.25</td>\n",
       "      <td>5.425938</td>\n",
       "    </tr>\n",
       "    <tr>\n",
       "      <th>3</th>\n",
       "      <td>United Kingdom</td>\n",
       "      <td>Alba</td>\n",
       "      <td>3.0</td>\n",
       "      <td>6000.65625</td>\n",
       "      <td>90865.0</td>\n",
       "      <td>1</td>\n",
       "      <td>19.4</td>\n",
       "      <td>1.25</td>\n",
       "      <td>5.433522</td>\n",
       "    </tr>\n",
       "    <tr>\n",
       "      <th>4</th>\n",
       "      <td>United Kingdom</td>\n",
       "      <td>Alba</td>\n",
       "      <td>4.0</td>\n",
       "      <td>6000.65625</td>\n",
       "      <td>80910.0</td>\n",
       "      <td>1</td>\n",
       "      <td>19.4</td>\n",
       "      <td>1.25</td>\n",
       "      <td>5.446432</td>\n",
       "    </tr>\n",
       "  </tbody>\n",
       "</table>\n",
       "</div>"
      ],
      "text/plain": [
       "     country_name field_name  field_age  field_depth  production  offshore  \\\n",
       "0  United Kingdom       Alba        0.0   6000.65625     44000.0         1   \n",
       "1  United Kingdom       Alba        1.0   6000.65625     69500.0         1   \n",
       "2  United Kingdom       Alba        2.0   6000.65625     69930.0         1   \n",
       "3  United Kingdom       Alba        3.0   6000.65625     90865.0         1   \n",
       "4  United Kingdom       Alba        4.0   6000.65625     80910.0         1   \n",
       "\n",
       "    api   h2s  Emission  \n",
       "0  19.4  1.25  5.427825  \n",
       "1  19.4  1.25  5.419328  \n",
       "2  19.4  1.25  5.425938  \n",
       "3  19.4  1.25  5.433522  \n",
       "4  19.4  1.25  5.446432  "
      ]
     },
     "execution_count": 86,
     "metadata": {},
     "output_type": "execute_result"
    }
   ],
   "source": [
    "x_data.head()"
   ]
  },
  {
   "cell_type": "code",
   "execution_count": 88,
   "id": "09e64727",
   "metadata": {},
   "outputs": [],
   "source": [
    "opgee_file.close()"
   ]
  },
  {
   "cell_type": "markdown",
   "id": "5d9ec681",
   "metadata": {},
   "source": [
    "## 1.3 - Multiple Iterations"
   ]
  },
  {
   "cell_type": "code",
   "execution_count": 95,
   "id": "0580bdf0",
   "metadata": {},
   "outputs": [],
   "source": [
    "opgee_file = xw.books.open('C:/Users/jing/Documents/Bocconi/DSBA/OPGEE/OPGEE_3.0b_BETA.xlsm')"
   ]
  },
  {
   "cell_type": "code",
   "execution_count": 91,
   "id": "54e4eba2",
   "metadata": {},
   "outputs": [
    {
     "name": "stderr",
     "output_type": "stream",
     "text": [
      "100%|███████████████████████████████████████████████████████████████████████████████| 26/26 [00:00<00:00, 12994.75it/s]\n"
     ]
    }
   ],
   "source": [
    "all_letters = [letter for letter in string.ascii_uppercase]\n",
    "double_letters = []\n",
    "for first_letter in tqdm(all_letters):\n",
    "    for second_letter in all_letters:\n",
    "        double_letters.append(first_letter + second_letter)\n",
    "all_letters += double_letters\n",
    "all_letters = all_letters[all_letters.index('I'):all_letters.index('SM')+1]"
   ]
  },
  {
   "cell_type": "code",
   "execution_count": 53,
   "id": "bab72ceb",
   "metadata": {},
   "outputs": [
    {
     "name": "stderr",
     "output_type": "stream",
     "text": [
      "100%|████████████████████████████████████████████████████████████████████████████████████| 2/2 [03:18<00:00, 99.31s/it]\n"
     ]
    }
   ],
   "source": [
    "n_iterations = 2\n",
    "n_fields = 2\n",
    "running_times = []\n",
    "\n",
    "x_data = all_fields.loc[:n_fields*n_iterations-1, ['country_name', 'field_name', 'field_age', 'field_depth', 'production', 'offshore', 'api', 'h2s']]\n",
    "x_data['Emission'] = 0\n",
    "\n",
    "for j in tqdm(range(n_iterations)):\n",
    "    \n",
    "    opgee_file = xw.books.open('C:/Users/jing/Documents/Bocconi/DSBA/OPGEE/OPGEE_3.0b_BETA.xlsm')\n",
    "    inputs_file = pd.read_excel('C:/Users/jing/Documents/Bocconi/DSBA/OPGEE/field_data_for_opgee.xlsx')\n",
    "    inputs_sheet = opgee_file.sheets('Inputs')\n",
    "    results_sheet = opgee_file.sheets('Results')\n",
    "    production_methods_default = inputs_sheet.range('G9:G17').value\n",
    "    \n",
    "    for i in range(n_fields):\n",
    "        col = all_letters[i]\n",
    "        inputs_sheet.range(f'{col}9:{col}17').value = production_methods_default\n",
    "        inputs_sheet.range(f'{col}20').value = all_fields.loc[i + j*n_fields, 'country_name']\n",
    "        inputs_sheet.range(f'{col}21').value = all_fields.loc[i + j*n_fields, 'field_name']\n",
    "        inputs_sheet.range(f'{col}22').value = all_fields.loc[i + j*n_fields, 'field_age']\n",
    "        inputs_sheet.range(f'{col}23').value = all_fields.loc[i + j*n_fields, 'field_depth']\n",
    "        inputs_sheet.range(f'{col}24').value = all_fields.loc[i + j*n_fields, 'production']\n",
    "        inputs_sheet.range(f'{col}31').value = all_fields.loc[i + j*n_fields, 'offshore']\n",
    "        inputs_sheet.range(f'{col}34').value = all_fields.loc[i + j*n_fields, 'api']\n",
    "        inputs_sheet.range(f'{col}42').value = all_fields.loc[i + j*n_fields, 'h2s']\n",
    "        \n",
    "    inputs_sheet.range('C2').value = n_fields + 1\n",
    "    \n",
    "    start_time = time.time()\n",
    "    trial_macro = opgee_file.macro('BulkAssessment.UltraBulk_assessment')\n",
    "    trial_macro()\n",
    "    end_time = time.time()\n",
    "    running_times.append((end_time - start_time)/60)\n",
    "    \n",
    "    end_bound = all_letters[n_fields-1]\n",
    "    emissions = results_sheet.range(f'I193:{end_bound}193').value\n",
    "    x_data.loc[n_fields*j:n_fields*(j+1)-1,'Emission'] = emissions\n",
    "    \n",
    "    opgee_file.close()"
   ]
  },
  {
   "cell_type": "code",
   "execution_count": 55,
   "id": "ca520a54",
   "metadata": {},
   "outputs": [
    {
     "data": {
      "text/html": [
       "<div>\n",
       "<style scoped>\n",
       "    .dataframe tbody tr th:only-of-type {\n",
       "        vertical-align: middle;\n",
       "    }\n",
       "\n",
       "    .dataframe tbody tr th {\n",
       "        vertical-align: top;\n",
       "    }\n",
       "\n",
       "    .dataframe thead th {\n",
       "        text-align: right;\n",
       "    }\n",
       "</style>\n",
       "<table border=\"1\" class=\"dataframe\">\n",
       "  <thead>\n",
       "    <tr style=\"text-align: right;\">\n",
       "      <th></th>\n",
       "      <th>country_name</th>\n",
       "      <th>field_name</th>\n",
       "      <th>field_age</th>\n",
       "      <th>field_depth</th>\n",
       "      <th>production</th>\n",
       "      <th>offshore</th>\n",
       "      <th>api</th>\n",
       "      <th>h2s</th>\n",
       "      <th>Emission</th>\n",
       "    </tr>\n",
       "  </thead>\n",
       "  <tbody>\n",
       "    <tr>\n",
       "      <th>0</th>\n",
       "      <td>United Kingdom</td>\n",
       "      <td>Alba</td>\n",
       "      <td>0.0</td>\n",
       "      <td>6000.65625</td>\n",
       "      <td>44000.0</td>\n",
       "      <td>1</td>\n",
       "      <td>19.4</td>\n",
       "      <td>1.25</td>\n",
       "      <td>5.427825</td>\n",
       "    </tr>\n",
       "    <tr>\n",
       "      <th>1</th>\n",
       "      <td>United Kingdom</td>\n",
       "      <td>Alba</td>\n",
       "      <td>1.0</td>\n",
       "      <td>6000.65625</td>\n",
       "      <td>69500.0</td>\n",
       "      <td>1</td>\n",
       "      <td>19.4</td>\n",
       "      <td>1.25</td>\n",
       "      <td>5.419328</td>\n",
       "    </tr>\n",
       "    <tr>\n",
       "      <th>2</th>\n",
       "      <td>United Kingdom</td>\n",
       "      <td>Alba</td>\n",
       "      <td>2.0</td>\n",
       "      <td>6000.65625</td>\n",
       "      <td>69930.0</td>\n",
       "      <td>1</td>\n",
       "      <td>19.4</td>\n",
       "      <td>1.25</td>\n",
       "      <td>5.425938</td>\n",
       "    </tr>\n",
       "    <tr>\n",
       "      <th>3</th>\n",
       "      <td>United Kingdom</td>\n",
       "      <td>Alba</td>\n",
       "      <td>3.0</td>\n",
       "      <td>6000.65625</td>\n",
       "      <td>90865.0</td>\n",
       "      <td>1</td>\n",
       "      <td>19.4</td>\n",
       "      <td>1.25</td>\n",
       "      <td>5.433522</td>\n",
       "    </tr>\n",
       "  </tbody>\n",
       "</table>\n",
       "</div>"
      ],
      "text/plain": [
       "     country_name field_name  field_age  field_depth  production  offshore  \\\n",
       "0  United Kingdom       Alba        0.0   6000.65625     44000.0         1   \n",
       "1  United Kingdom       Alba        1.0   6000.65625     69500.0         1   \n",
       "2  United Kingdom       Alba        2.0   6000.65625     69930.0         1   \n",
       "3  United Kingdom       Alba        3.0   6000.65625     90865.0         1   \n",
       "\n",
       "    api   h2s  Emission  \n",
       "0  19.4  1.25  5.427825  \n",
       "1  19.4  1.25  5.419328  \n",
       "2  19.4  1.25  5.425938  \n",
       "3  19.4  1.25  5.433522  "
      ]
     },
     "execution_count": 55,
     "metadata": {},
     "output_type": "execute_result"
    }
   ],
   "source": [
    "x_data"
   ]
  },
  {
   "cell_type": "code",
   "execution_count": 56,
   "id": "11d985a4",
   "metadata": {},
   "outputs": [
    {
     "data": {
      "text/plain": [
       "[5.425937557418119, 5.433522087682802]"
      ]
     },
     "execution_count": 56,
     "metadata": {},
     "output_type": "execute_result"
    }
   ],
   "source": [
    "emissions"
   ]
  },
  {
   "cell_type": "markdown",
   "id": "80bc47c6",
   "metadata": {},
   "source": [
    "## 1.4 - Null Production Check"
   ]
  },
  {
   "cell_type": "code",
   "execution_count": 118,
   "id": "47961531",
   "metadata": {},
   "outputs": [],
   "source": [
    "app = xw.App(visible=False)\n",
    "opgee_file = xw.books.open('C:/Users/jing/Documents/Bocconi/DSBA/OPGEE/OPGEE_3.0b_BETA.xlsm')\n",
    "inputs_file = pd.read_excel('C:/Users/jing/Documents/Bocconi/DSBA/OPGEE/field_data_for_opgee.xlsx')"
   ]
  },
  {
   "cell_type": "code",
   "execution_count": 119,
   "id": "c3851e77",
   "metadata": {},
   "outputs": [
    {
     "data": {
      "text/plain": [
       "[1.0, 1.0, 1.0, 0.0, 0.0, 0.0, 0.0, 0.0, 0.0]"
      ]
     },
     "execution_count": 119,
     "metadata": {},
     "output_type": "execute_result"
    }
   ],
   "source": [
    "inputs_sheet = opgee_file.sheets('Inputs')\n",
    "results_sheet = opgee_file.sheets('Results')\n",
    "production_methods_default = inputs_sheet.range('G9:G17').value\n",
    "production_methods_default"
   ]
  },
  {
   "cell_type": "code",
   "execution_count": 120,
   "id": "0103b929",
   "metadata": {},
   "outputs": [
    {
     "data": {
      "text/plain": [
       "1629"
      ]
     },
     "execution_count": 120,
     "metadata": {},
     "output_type": "execute_result"
    }
   ],
   "source": [
    "zero_fields = inputs_file[inputs_file['production'] == 0].reset_index(drop = True)\n",
    "zero_fields.shape[0]"
   ]
  },
  {
   "cell_type": "code",
   "execution_count": 141,
   "id": "98c4240c",
   "metadata": {},
   "outputs": [],
   "source": [
    "zero_fields['production'] = 0.00000000000000001"
   ]
  },
  {
   "cell_type": "code",
   "execution_count": 142,
   "id": "73a41834",
   "metadata": {},
   "outputs": [],
   "source": [
    "j = 40\n",
    "inputs_sheet.range('I9:I17').value = production_methods_default\n",
    "inputs_sheet.range('I20').value = zero_fields.loc[j, 'country_name']\n",
    "inputs_sheet.range('I21').value = zero_fields.loc[j, 'field_name']\n",
    "inputs_sheet.range('I22').value = zero_fields.loc[j, 'field_age']\n",
    "inputs_sheet.range('I23').value = zero_fields.loc[j, 'field_depth']\n",
    "inputs_sheet.range('I24').value = zero_fields.loc[j, 'production']\n",
    "inputs_sheet.range('I31').value = zero_fields.loc[j, 'offshore']\n",
    "inputs_sheet.range('I34').value = zero_fields.loc[j, 'api']\n",
    "inputs_sheet.range('I42').value = zero_fields.loc[j, 'h2s']\n",
    "\n",
    "inputs_sheet.range('C2').value = 2"
   ]
  },
  {
   "cell_type": "code",
   "execution_count": 143,
   "id": "77bc46bd",
   "metadata": {},
   "outputs": [],
   "source": [
    "trial_macro = opgee_file.macro('BulkAssessment.UltraBulk_assessment')\n",
    "trial_macro()"
   ]
  },
  {
   "cell_type": "code",
   "execution_count": 144,
   "id": "ba29f795",
   "metadata": {},
   "outputs": [
    {
     "data": {
      "text/plain": [
       "4.051574596234097e+17"
      ]
     },
     "execution_count": 144,
     "metadata": {},
     "output_type": "execute_result"
    }
   ],
   "source": [
    "emission = results_sheet.range('I193').value\n",
    "emission"
   ]
  },
  {
   "cell_type": "markdown",
   "id": "2d494953",
   "metadata": {},
   "source": [
    "## 1.5 - Final Code"
   ]
  },
  {
   "cell_type": "code",
   "execution_count": 15,
   "id": "5b423cb9",
   "metadata": {},
   "outputs": [
    {
     "name": "stderr",
     "output_type": "stream",
     "text": [
      "100%|███████████████████████████████████████████████████████████████████████████████| 26/26 [00:00<00:00, 26032.92it/s]\n"
     ]
    }
   ],
   "source": [
    "app = xw.App(visible=False)\n",
    "opgee_file = xw.books.open('C:/Users/jing/Documents/Bocconi/DSBA/OPGEE/OPGEE_3.0b_BETA.xlsm')\n",
    "inputs_file = pd.read_excel('C:/Users/jing/Documents/Bocconi/DSBA/OPGEE/field_data_for_opgee.xlsx')\n",
    "all_fields = inputs_file[inputs_file['production'] != 0].reset_index(drop = True)\n",
    "\n",
    "inputs_sheet = opgee_file.sheets('Inputs')\n",
    "results_sheet = opgee_file.sheets('Results')\n",
    "production_methods_default = inputs_sheet.range('G9:G17').value\n",
    "\n",
    "all_letters = [letter for letter in string.ascii_uppercase]\n",
    "double_letters = []\n",
    "for first_letter in tqdm(all_letters):\n",
    "    for second_letter in all_letters:\n",
    "        double_letters.append(first_letter + second_letter)\n",
    "all_letters += double_letters\n",
    "all_letters = all_letters[all_letters.index('I'):all_letters.index('SM')+1]"
   ]
  },
  {
   "cell_type": "code",
   "execution_count": 35,
   "id": "7e017b7e",
   "metadata": {},
   "outputs": [
    {
     "name": "stderr",
     "output_type": "stream",
     "text": [
      "100%|██████████████████████████████████████████████████████████████████████████████████| 1/1 [54:27<00:00, 3267.01s/it]\n"
     ]
    }
   ],
   "source": [
    "n_iterations = 1\n",
    "n_fields = 499\n",
    "running_times = []\n",
    "\n",
    "for j in tqdm(range(n_iterations)):\n",
    "    all_files = os.listdir()\n",
    "    already_opgee = pd.DataFrame()\n",
    "    last_index = 0\n",
    "\n",
    "    for i in range(len(all_files)):\n",
    "        if all_files[i][:10] == 'OPGEE_Data':\n",
    "            last_index += 1\n",
    "            already_opgee = pd.concat([already_opgee, pd.read_csv(all_files[i])])\n",
    "\n",
    "    shift = already_opgee.shape[0]\n",
    "    \n",
    "    if (all_fields.shape[0] - shift - n_fields)//499 <= 0:\n",
    "        n_fields = (all_fields.shape[0] - shift - n_fields) % 499\n",
    "    \n",
    "    x_data = all_fields.loc[shift : shift + n_fields - 1, ['country_name', 'field_name', 'field_age', 'field_depth', 'production', 'offshore', 'api', 'h2s']]\n",
    "    x_data['Emission'] = 0\n",
    "\n",
    "    opgee_file = xw.books.open('C:/Users/jing/Documents/Bocconi/DSBA/OPGEE/OPGEE_3.0b_BETA.xlsm')\n",
    "    opgee_file = xw.books.open('C:/Users/jing/Documents/Bocconi/DSBA/OPGEE/OPGEE_3.0b_BETA.xlsm')\n",
    "    inputs_file = pd.read_excel('C:/Users/jing/Documents/Bocconi/DSBA/OPGEE/field_data_for_opgee.xlsx')\n",
    "    inputs_sheet = opgee_file.sheets('Inputs')\n",
    "    results_sheet = opgee_file.sheets('Results')\n",
    "    production_methods_default = inputs_sheet.range('G9:G17').value\n",
    "\n",
    "    for i in range(n_fields):\n",
    "        col = all_letters[i]\n",
    "        inputs_sheet.range(f'{col}9:{col}17').value = production_methods_default\n",
    "        inputs_sheet.range(f'{col}20').value = all_fields.loc[i + shift, 'country_name']\n",
    "        inputs_sheet.range(f'{col}21').value = all_fields.loc[i + shift, 'field_name']\n",
    "        inputs_sheet.range(f'{col}22').value = all_fields.loc[i + shift, 'field_age']\n",
    "        inputs_sheet.range(f'{col}23').value = all_fields.loc[i + shift, 'field_depth']\n",
    "        inputs_sheet.range(f'{col}24').value = all_fields.loc[i + shift, 'production']\n",
    "        inputs_sheet.range(f'{col}31').value = all_fields.loc[i + shift, 'offshore']\n",
    "        inputs_sheet.range(f'{col}34').value = all_fields.loc[i + shift, 'api']\n",
    "        inputs_sheet.range(f'{col}42').value = all_fields.loc[i + shift, 'h2s']\n",
    "\n",
    "    inputs_sheet.range('C2').value = n_fields + 1\n",
    "\n",
    "    start_time = time.time()\n",
    "    trial_macro = opgee_file.macro('BulkAssessment.UltraBulk_assessment')\n",
    "    trial_macro()\n",
    "    end_time = time.time()\n",
    "    running_times.append((end_time - start_time)/60)\n",
    "\n",
    "    end_bound = all_letters[n_fields-1]\n",
    "    emissions = results_sheet.range(f'I193:{end_bound}193').value\n",
    "    x_data['Emission'] = emissions\n",
    "    x_data.to_csv(f'OPGEE_Data_{last_index}.csv')\n",
    "\n",
    "    opgee_file.close()"
   ]
  },
  {
   "cell_type": "code",
   "execution_count": 36,
   "id": "f5bf4505",
   "metadata": {},
   "outputs": [
    {
     "name": "stdout",
     "output_type": "stream",
     "text": [
      "Remaining Batches: 0\n",
      "Remaining Elements: 0\n"
     ]
    }
   ],
   "source": [
    "print(f'Remaining Batches: {(all_fields.shape[0] - shift - n_fields)//499}')\n",
    "print(f'Remaining Elements: {(all_fields.shape[0] - shift - n_fields)%499}')"
   ]
  },
  {
   "cell_type": "code",
   "execution_count": 37,
   "id": "499810b4",
   "metadata": {},
   "outputs": [
    {
     "data": {
      "text/html": [
       "<div>\n",
       "<style scoped>\n",
       "    .dataframe tbody tr th:only-of-type {\n",
       "        vertical-align: middle;\n",
       "    }\n",
       "\n",
       "    .dataframe tbody tr th {\n",
       "        vertical-align: top;\n",
       "    }\n",
       "\n",
       "    .dataframe thead th {\n",
       "        text-align: right;\n",
       "    }\n",
       "</style>\n",
       "<table border=\"1\" class=\"dataframe\">\n",
       "  <thead>\n",
       "    <tr style=\"text-align: right;\">\n",
       "      <th></th>\n",
       "      <th>Unnamed: 0</th>\n",
       "      <th>country_name</th>\n",
       "      <th>field_name</th>\n",
       "      <th>field_age</th>\n",
       "      <th>field_depth</th>\n",
       "      <th>production</th>\n",
       "      <th>offshore</th>\n",
       "      <th>api</th>\n",
       "      <th>h2s</th>\n",
       "      <th>Emission</th>\n",
       "    </tr>\n",
       "  </thead>\n",
       "  <tbody>\n",
       "    <tr>\n",
       "      <th>0</th>\n",
       "      <td>5989</td>\n",
       "      <td>Norway</td>\n",
       "      <td>Gullfaks Sor</td>\n",
       "      <td>1.0</td>\n",
       "      <td>9842.519531</td>\n",
       "      <td>38030.000000</td>\n",
       "      <td>1</td>\n",
       "      <td>36.000000</td>\n",
       "      <td>0.26</td>\n",
       "      <td>4.923914</td>\n",
       "    </tr>\n",
       "    <tr>\n",
       "      <th>1</th>\n",
       "      <td>5990</td>\n",
       "      <td>Norway</td>\n",
       "      <td>Gullfaks Sor</td>\n",
       "      <td>2.0</td>\n",
       "      <td>9842.519531</td>\n",
       "      <td>61065.601562</td>\n",
       "      <td>1</td>\n",
       "      <td>36.000000</td>\n",
       "      <td>0.26</td>\n",
       "      <td>4.930189</td>\n",
       "    </tr>\n",
       "    <tr>\n",
       "      <th>2</th>\n",
       "      <td>5991</td>\n",
       "      <td>Norway</td>\n",
       "      <td>Gullfaks Sor</td>\n",
       "      <td>3.0</td>\n",
       "      <td>9842.519531</td>\n",
       "      <td>78348.000000</td>\n",
       "      <td>1</td>\n",
       "      <td>36.000000</td>\n",
       "      <td>0.26</td>\n",
       "      <td>4.941496</td>\n",
       "    </tr>\n",
       "    <tr>\n",
       "      <th>3</th>\n",
       "      <td>5992</td>\n",
       "      <td>Norway</td>\n",
       "      <td>Gullfaks Sor</td>\n",
       "      <td>4.0</td>\n",
       "      <td>9842.519531</td>\n",
       "      <td>99387.039062</td>\n",
       "      <td>1</td>\n",
       "      <td>36.000000</td>\n",
       "      <td>0.26</td>\n",
       "      <td>4.952688</td>\n",
       "    </tr>\n",
       "    <tr>\n",
       "      <th>4</th>\n",
       "      <td>5993</td>\n",
       "      <td>Norway</td>\n",
       "      <td>Gullfaks Sor</td>\n",
       "      <td>5.0</td>\n",
       "      <td>9842.519531</td>\n",
       "      <td>108171.281250</td>\n",
       "      <td>1</td>\n",
       "      <td>36.000000</td>\n",
       "      <td>0.26</td>\n",
       "      <td>4.965878</td>\n",
       "    </tr>\n",
       "    <tr>\n",
       "      <th>...</th>\n",
       "      <td>...</td>\n",
       "      <td>...</td>\n",
       "      <td>...</td>\n",
       "      <td>...</td>\n",
       "      <td>...</td>\n",
       "      <td>...</td>\n",
       "      <td>...</td>\n",
       "      <td>...</td>\n",
       "      <td>...</td>\n",
       "      <td>...</td>\n",
       "    </tr>\n",
       "    <tr>\n",
       "      <th>104</th>\n",
       "      <td>6093</td>\n",
       "      <td>Norway</td>\n",
       "      <td>Draugen Area</td>\n",
       "      <td>13.0</td>\n",
       "      <td>5413.385742</td>\n",
       "      <td>86254.562500</td>\n",
       "      <td>1</td>\n",
       "      <td>39.599998</td>\n",
       "      <td>0.16</td>\n",
       "      <td>5.013164</td>\n",
       "    </tr>\n",
       "    <tr>\n",
       "      <th>105</th>\n",
       "      <td>6094</td>\n",
       "      <td>Norway</td>\n",
       "      <td>Draugen Area</td>\n",
       "      <td>14.0</td>\n",
       "      <td>5413.385742</td>\n",
       "      <td>77689.039062</td>\n",
       "      <td>1</td>\n",
       "      <td>39.599998</td>\n",
       "      <td>0.16</td>\n",
       "      <td>5.026884</td>\n",
       "    </tr>\n",
       "    <tr>\n",
       "      <th>106</th>\n",
       "      <td>6095</td>\n",
       "      <td>Norway</td>\n",
       "      <td>Draugen Area</td>\n",
       "      <td>15.0</td>\n",
       "      <td>5413.385742</td>\n",
       "      <td>75983.437500</td>\n",
       "      <td>1</td>\n",
       "      <td>39.599998</td>\n",
       "      <td>0.16</td>\n",
       "      <td>5.040277</td>\n",
       "    </tr>\n",
       "    <tr>\n",
       "      <th>107</th>\n",
       "      <td>6096</td>\n",
       "      <td>Norway</td>\n",
       "      <td>Draugen Area</td>\n",
       "      <td>16.0</td>\n",
       "      <td>5413.385742</td>\n",
       "      <td>64106.003906</td>\n",
       "      <td>1</td>\n",
       "      <td>39.599998</td>\n",
       "      <td>0.16</td>\n",
       "      <td>5.055412</td>\n",
       "    </tr>\n",
       "    <tr>\n",
       "      <th>108</th>\n",
       "      <td>6097</td>\n",
       "      <td>Norway</td>\n",
       "      <td>Draugen Area</td>\n",
       "      <td>17.0</td>\n",
       "      <td>5413.385742</td>\n",
       "      <td>44846.160156</td>\n",
       "      <td>1</td>\n",
       "      <td>39.599998</td>\n",
       "      <td>0.16</td>\n",
       "      <td>5.071577</td>\n",
       "    </tr>\n",
       "  </tbody>\n",
       "</table>\n",
       "<p>109 rows × 10 columns</p>\n",
       "</div>"
      ],
      "text/plain": [
       "     Unnamed: 0 country_name    field_name  field_age  field_depth  \\\n",
       "0          5989       Norway  Gullfaks Sor        1.0  9842.519531   \n",
       "1          5990       Norway  Gullfaks Sor        2.0  9842.519531   \n",
       "2          5991       Norway  Gullfaks Sor        3.0  9842.519531   \n",
       "3          5992       Norway  Gullfaks Sor        4.0  9842.519531   \n",
       "4          5993       Norway  Gullfaks Sor        5.0  9842.519531   \n",
       "..          ...          ...           ...        ...          ...   \n",
       "104        6093       Norway  Draugen Area       13.0  5413.385742   \n",
       "105        6094       Norway  Draugen Area       14.0  5413.385742   \n",
       "106        6095       Norway  Draugen Area       15.0  5413.385742   \n",
       "107        6096       Norway  Draugen Area       16.0  5413.385742   \n",
       "108        6097       Norway  Draugen Area       17.0  5413.385742   \n",
       "\n",
       "        production  offshore        api   h2s  Emission  \n",
       "0     38030.000000         1  36.000000  0.26  4.923914  \n",
       "1     61065.601562         1  36.000000  0.26  4.930189  \n",
       "2     78348.000000         1  36.000000  0.26  4.941496  \n",
       "3     99387.039062         1  36.000000  0.26  4.952688  \n",
       "4    108171.281250         1  36.000000  0.26  4.965878  \n",
       "..             ...       ...        ...   ...       ...  \n",
       "104   86254.562500         1  39.599998  0.16  5.013164  \n",
       "105   77689.039062         1  39.599998  0.16  5.026884  \n",
       "106   75983.437500         1  39.599998  0.16  5.040277  \n",
       "107   64106.003906         1  39.599998  0.16  5.055412  \n",
       "108   44846.160156         1  39.599998  0.16  5.071577  \n",
       "\n",
       "[109 rows x 10 columns]"
      ]
     },
     "execution_count": 37,
     "metadata": {},
     "output_type": "execute_result"
    }
   ],
   "source": [
    "pd.read_csv(f'OPGEE_DATA_{last_index}.csv')"
   ]
  },
  {
   "cell_type": "code",
   "execution_count": 40,
   "id": "01de8c07",
   "metadata": {},
   "outputs": [],
   "source": [
    "all_files = os.listdir()\n",
    "opgee = pd.DataFrame()\n",
    "\n",
    "for i in range(len(all_files)):\n",
    "    if all_files[i][:10] == 'OPGEE_Data':\n",
    "        opgee = pd.concat([opgee, pd.read_csv(all_files[i])])\n",
    "\n",
    "opgee = opgee.drop('Unnamed: 0', axis = 1)\n",
    "#opgee.to_csv('OPGEE_Data.csv')"
   ]
  },
  {
   "cell_type": "markdown",
   "id": "2ed0e4b8",
   "metadata": {},
   "source": [
    "# 2 - Consistency and Sensitivity Checks"
   ]
  },
  {
   "cell_type": "markdown",
   "id": "7e3130ca",
   "metadata": {},
   "source": [
    "The code below performs a consistency and sensitivity check on fields classified as HP/HT (either high pressure or high temperature). In this first section, it checks whether the label indeed matches the variables:\n",
    "- High pressure if it exceeds 10.000 psi.\n",
    "- High temperature if it exceeds 320 F. "
   ]
  },
  {
   "cell_type": "markdown",
   "id": "0df39744",
   "metadata": {},
   "source": [
    "## 2.1 - Consistency Checks"
   ]
  },
  {
   "cell_type": "code",
   "execution_count": 212,
   "id": "c9593c30",
   "metadata": {},
   "outputs": [
    {
     "name": "stdout",
     "output_type": "stream",
     "text": [
      "155\n"
     ]
    }
   ],
   "source": [
    "inputs = pd.read_excel('C:/Users/jing/Documents/Bocconi/DSBA/OPGEE/field_data_for_opgee.xlsx')\n",
    "all_fields = inputs[(inputs['control_psi_temp'].notnull()) & (inputs['production'] > 0) & (inputs['field_age'] >= 0)].reset_index(drop = True)\n",
    "print(all_fields.shape[0])"
   ]
  },
  {
   "cell_type": "markdown",
   "id": "bf33b965",
   "metadata": {},
   "source": [
    "In the code below, the pressure and the temperature of HP/HT fields are retrieved and put into a dataset called Pressure_Temperature_Problems.csv"
   ]
  },
  {
   "cell_type": "code",
   "execution_count": 213,
   "id": "dada0239",
   "metadata": {},
   "outputs": [],
   "source": [
    "n_fields = all_fields.shape[0]\n",
    "running_times = []\n",
    "\n",
    "xw.App(visible=False)\n",
    "opgee_file = xw.books.open('C:/Users/jing/Documents/Bocconi/DSBA/OPGEE/OPGEE_3.0b_BETA.xlsm')\n",
    "inputs_file = pd.read_excel('C:/Users/jing/Documents/Bocconi/DSBA/OPGEE/field_data_for_opgee.xlsx')\n",
    "inputs_sheet = opgee_file.sheets('Inputs')\n",
    "results_sheet = opgee_file.sheets('Results')\n",
    "production_methods_default = inputs_sheet.range('G9:G17').value\n",
    "\n",
    "for i in range(n_fields):\n",
    "    col = all_letters[i]\n",
    "    inputs_sheet.range(f'{col}9:{col}17').value = production_methods_default\n",
    "    inputs_sheet.range(f'{col}20').value = all_fields.loc[i, 'country_name']\n",
    "    inputs_sheet.range(f'{col}21').value = all_fields.loc[i, 'field_name']\n",
    "    inputs_sheet.range(f'{col}22').value = all_fields.loc[i, 'field_age']\n",
    "    inputs_sheet.range(f'{col}23').value = all_fields.loc[i, 'field_depth']\n",
    "    inputs_sheet.range(f'{col}24').value = all_fields.loc[i, 'production']\n",
    "    inputs_sheet.range(f'{col}31').value = all_fields.loc[i, 'offshore']\n",
    "    inputs_sheet.range(f'{col}34').value = all_fields.loc[i, 'api']\n",
    "    inputs_sheet.range(f'{col}42').value = all_fields.loc[i, 'h2s']\n",
    "\n",
    "inputs_sheet.range('C2').value = n_fields + 1\n",
    "\n",
    "start_time = time.time()\n",
    "trial_macro = opgee_file.macro('BulkAssessment.UltraBulk_assessment')\n",
    "trial_macro()\n",
    "end_time = time.time()\n",
    "running_times.append((end_time - start_time)/60)\n",
    "\n",
    "end_bound = all_letters[n_fields-1]\n",
    "pressures = np.array(results_sheet.range(f'I29:{end_bound}29').value)\n",
    "temperatures = np.array(results_sheet.range(f'I30:{end_bound}30').value)\n",
    "\n",
    "opgee_file.close()"
   ]
  },
  {
   "cell_type": "code",
   "execution_count": 219,
   "id": "d63a0330",
   "metadata": {},
   "outputs": [
    {
     "data": {
      "text/html": [
       "<div>\n",
       "<style scoped>\n",
       "    .dataframe tbody tr th:only-of-type {\n",
       "        vertical-align: middle;\n",
       "    }\n",
       "\n",
       "    .dataframe tbody tr th {\n",
       "        vertical-align: top;\n",
       "    }\n",
       "\n",
       "    .dataframe thead th {\n",
       "        text-align: right;\n",
       "    }\n",
       "</style>\n",
       "<table border=\"1\" class=\"dataframe\">\n",
       "  <thead>\n",
       "    <tr style=\"text-align: right;\">\n",
       "      <th></th>\n",
       "      <th>year</th>\n",
       "      <th>field_name</th>\n",
       "      <th>country_name</th>\n",
       "      <th>field_age</th>\n",
       "      <th>field_depth</th>\n",
       "      <th>production</th>\n",
       "      <th>offshore</th>\n",
       "      <th>api</th>\n",
       "      <th>h2s</th>\n",
       "      <th>control_psi_temp</th>\n",
       "      <th>id_field</th>\n",
       "      <th>y_prod_start</th>\n",
       "      <th>y_prod_end</th>\n",
       "      <th>field_class_hp_ht</th>\n",
       "      <th>f_api__api</th>\n",
       "      <th>f_sulphur__prc</th>\n",
       "      <th>f_reservoir_depth__mtr</th>\n",
       "      <th>Pressure</th>\n",
       "      <th>Temperature</th>\n",
       "    </tr>\n",
       "  </thead>\n",
       "  <tbody>\n",
       "    <tr>\n",
       "      <th>0</th>\n",
       "      <td>2001</td>\n",
       "      <td>Elgin</td>\n",
       "      <td>United Kingdom</td>\n",
       "      <td>0.0</td>\n",
       "      <td>17598.425781</td>\n",
       "      <td>54700.000000</td>\n",
       "      <td>1</td>\n",
       "      <td>44.099998</td>\n",
       "      <td>0.05</td>\n",
       "      <td>HP/HT</td>\n",
       "      <td>66</td>\n",
       "      <td>2001.0</td>\n",
       "      <td>2040.0</td>\n",
       "      <td>HP/HT</td>\n",
       "      <td>44.1</td>\n",
       "      <td>0.05</td>\n",
       "      <td>5364.0</td>\n",
       "      <td>3783.661543</td>\n",
       "      <td>386.771664</td>\n",
       "    </tr>\n",
       "    <tr>\n",
       "      <th>1</th>\n",
       "      <td>2002</td>\n",
       "      <td>Elgin</td>\n",
       "      <td>United Kingdom</td>\n",
       "      <td>1.0</td>\n",
       "      <td>17598.425781</td>\n",
       "      <td>115380.000000</td>\n",
       "      <td>1</td>\n",
       "      <td>44.099998</td>\n",
       "      <td>0.05</td>\n",
       "      <td>HP/HT</td>\n",
       "      <td>66</td>\n",
       "      <td>2001.0</td>\n",
       "      <td>2040.0</td>\n",
       "      <td>HP/HT</td>\n",
       "      <td>44.1</td>\n",
       "      <td>0.05</td>\n",
       "      <td>5364.0</td>\n",
       "      <td>3783.661543</td>\n",
       "      <td>386.771664</td>\n",
       "    </tr>\n",
       "    <tr>\n",
       "      <th>2</th>\n",
       "      <td>2003</td>\n",
       "      <td>Elgin</td>\n",
       "      <td>United Kingdom</td>\n",
       "      <td>2.0</td>\n",
       "      <td>17598.425781</td>\n",
       "      <td>125609.203125</td>\n",
       "      <td>1</td>\n",
       "      <td>44.099998</td>\n",
       "      <td>0.05</td>\n",
       "      <td>HP/HT</td>\n",
       "      <td>66</td>\n",
       "      <td>2001.0</td>\n",
       "      <td>2040.0</td>\n",
       "      <td>HP/HT</td>\n",
       "      <td>44.1</td>\n",
       "      <td>0.05</td>\n",
       "      <td>5364.0</td>\n",
       "      <td>3783.661543</td>\n",
       "      <td>386.771664</td>\n",
       "    </tr>\n",
       "    <tr>\n",
       "      <th>3</th>\n",
       "      <td>2004</td>\n",
       "      <td>Elgin</td>\n",
       "      <td>United Kingdom</td>\n",
       "      <td>3.0</td>\n",
       "      <td>17598.425781</td>\n",
       "      <td>129274.796875</td>\n",
       "      <td>1</td>\n",
       "      <td>44.099998</td>\n",
       "      <td>0.05</td>\n",
       "      <td>HP/HT</td>\n",
       "      <td>66</td>\n",
       "      <td>2001.0</td>\n",
       "      <td>2040.0</td>\n",
       "      <td>HP/HT</td>\n",
       "      <td>44.1</td>\n",
       "      <td>0.05</td>\n",
       "      <td>5364.0</td>\n",
       "      <td>3783.661543</td>\n",
       "      <td>386.771664</td>\n",
       "    </tr>\n",
       "    <tr>\n",
       "      <th>4</th>\n",
       "      <td>2005</td>\n",
       "      <td>Elgin</td>\n",
       "      <td>United Kingdom</td>\n",
       "      <td>4.0</td>\n",
       "      <td>17598.425781</td>\n",
       "      <td>109682.000000</td>\n",
       "      <td>1</td>\n",
       "      <td>44.099998</td>\n",
       "      <td>0.05</td>\n",
       "      <td>HP/HT</td>\n",
       "      <td>66</td>\n",
       "      <td>2001.0</td>\n",
       "      <td>2040.0</td>\n",
       "      <td>HP/HT</td>\n",
       "      <td>44.1</td>\n",
       "      <td>0.05</td>\n",
       "      <td>5364.0</td>\n",
       "      <td>3783.661543</td>\n",
       "      <td>386.771664</td>\n",
       "    </tr>\n",
       "  </tbody>\n",
       "</table>\n",
       "</div>"
      ],
      "text/plain": [
       "   year field_name    country_name  field_age   field_depth     production  \\\n",
       "0  2001      Elgin  United Kingdom        0.0  17598.425781   54700.000000   \n",
       "1  2002      Elgin  United Kingdom        1.0  17598.425781  115380.000000   \n",
       "2  2003      Elgin  United Kingdom        2.0  17598.425781  125609.203125   \n",
       "3  2004      Elgin  United Kingdom        3.0  17598.425781  129274.796875   \n",
       "4  2005      Elgin  United Kingdom        4.0  17598.425781  109682.000000   \n",
       "\n",
       "   offshore        api   h2s control_psi_temp  id_field  y_prod_start  \\\n",
       "0         1  44.099998  0.05            HP/HT        66        2001.0   \n",
       "1         1  44.099998  0.05            HP/HT        66        2001.0   \n",
       "2         1  44.099998  0.05            HP/HT        66        2001.0   \n",
       "3         1  44.099998  0.05            HP/HT        66        2001.0   \n",
       "4         1  44.099998  0.05            HP/HT        66        2001.0   \n",
       "\n",
       "   y_prod_end field_class_hp_ht  f_api__api  f_sulphur__prc  \\\n",
       "0      2040.0             HP/HT        44.1            0.05   \n",
       "1      2040.0             HP/HT        44.1            0.05   \n",
       "2      2040.0             HP/HT        44.1            0.05   \n",
       "3      2040.0             HP/HT        44.1            0.05   \n",
       "4      2040.0             HP/HT        44.1            0.05   \n",
       "\n",
       "   f_reservoir_depth__mtr     Pressure  Temperature  \n",
       "0                  5364.0  3783.661543   386.771664  \n",
       "1                  5364.0  3783.661543   386.771664  \n",
       "2                  5364.0  3783.661543   386.771664  \n",
       "3                  5364.0  3783.661543   386.771664  \n",
       "4                  5364.0  3783.661543   386.771664  "
      ]
     },
     "execution_count": 219,
     "metadata": {},
     "output_type": "execute_result"
    }
   ],
   "source": [
    "all_fields['Pressure'] = pressures\n",
    "all_fields['Temperature'] = temperatures\n",
    "#all_fields.to_csv('Pressure_Temperature_Problems.csv')\n",
    "all_fields.head()"
   ]
  },
  {
   "cell_type": "markdown",
   "id": "00f470cf",
   "metadata": {},
   "source": [
    "As it's possible to see, 80% of HP/HT fields has indeed either high temperature or high pressure. \n",
    "More precisely, while none of the fields has high pressure, 80% of them has high temperature."
   ]
  },
  {
   "cell_type": "code",
   "execution_count": 3,
   "id": "ef770e16",
   "metadata": {},
   "outputs": [
    {
     "name": "stdout",
     "output_type": "stream",
     "text": [
      "155\n",
      "80.0\n",
      "80.0\n",
      "0.0\n"
     ]
    }
   ],
   "source": [
    "prob_opgee = pd.read_csv('Pressure_Temperature_Problems.csv').drop('Unnamed: 0', axis = 1)\n",
    "print(prob_opgee.shape[0])\n",
    "print(prob_opgee.loc[(prob_opgee['Pressure'] > 10000) | (prob_opgee['Temperature'] > 302)].shape[0]*100/prob_opgee.shape[0])\n",
    "print(prob_opgee.loc[(prob_opgee['Temperature'] > 302)].shape[0]*100/prob_opgee.shape[0])\n",
    "print(prob_opgee.loc[(prob_opgee['Pressure'] > 10000)].shape[0]*100/prob_opgee.shape[0])"
   ]
  },
  {
   "cell_type": "markdown",
   "id": "f76bd505",
   "metadata": {},
   "source": [
    "It is possible to see that the pressure for HP/HT fields is between 2000 and 4500 psi."
   ]
  },
  {
   "cell_type": "code",
   "execution_count": 9,
   "id": "c9136ad7",
   "metadata": {},
   "outputs": [
    {
     "data": {
      "image/png": "[encoded data removed]",
      "text/plain": [
       "<Figure size 432x288 with 1 Axes>"
      ]
     },
     "metadata": {
      "needs_background": "light"
     },
     "output_type": "display_data"
    }
   ],
   "source": [
    "prob_press = np.array(prob_opgee.loc[(prob_opgee['Pressure'] < 10000), 'Pressure'])\n",
    "plt.hist(prob_press, bins = 35, density = True)\n",
    "plt.title('Problem Pressure')\n",
    "plt.show()\n",
    "prob_press = np.array(prob_opgee.loc[(prob_opgee['Pressure'] < 10000), 'Pressure'])\n",
    "plt.hist(prob_press, bins = 35, density = True)\n",
    "plt.title('Problem Pressure')\n",
    "plt.show()"
   ]
  },
  {
   "cell_type": "markdown",
   "id": "b8646856",
   "metadata": {},
   "source": [
    "## 2.2 - Sensitivity Analysis"
   ]
  },
  {
   "cell_type": "markdown",
   "id": "b40c2e10",
   "metadata": {},
   "source": [
    "In this section high temperature and pressure are forcefully used, to check whether this leads to significant differences in terms of the output emissions."
   ]
  },
  {
   "cell_type": "code",
   "execution_count": 21,
   "id": "77a46222",
   "metadata": {},
   "outputs": [
    {
     "name": "stdout",
     "output_type": "stream",
     "text": [
      "(155, 19)\n",
      "(155, 17)\n"
     ]
    },
    {
     "data": {
      "text/html": [
       "<div>\n",
       "<style scoped>\n",
       "    .dataframe tbody tr th:only-of-type {\n",
       "        vertical-align: middle;\n",
       "    }\n",
       "\n",
       "    .dataframe tbody tr th {\n",
       "        vertical-align: top;\n",
       "    }\n",
       "\n",
       "    .dataframe thead th {\n",
       "        text-align: right;\n",
       "    }\n",
       "</style>\n",
       "<table border=\"1\" class=\"dataframe\">\n",
       "  <thead>\n",
       "    <tr style=\"text-align: right;\">\n",
       "      <th></th>\n",
       "      <th>year</th>\n",
       "      <th>field_name</th>\n",
       "      <th>country_name</th>\n",
       "      <th>field_age</th>\n",
       "      <th>field_depth</th>\n",
       "      <th>production</th>\n",
       "      <th>offshore</th>\n",
       "      <th>api</th>\n",
       "      <th>h2s</th>\n",
       "      <th>control_psi_temp</th>\n",
       "      <th>id_field</th>\n",
       "      <th>y_prod_start</th>\n",
       "      <th>y_prod_end</th>\n",
       "      <th>field_class_hp_ht</th>\n",
       "      <th>f_api__api</th>\n",
       "      <th>f_sulphur__prc</th>\n",
       "      <th>f_reservoir_depth__mtr</th>\n",
       "    </tr>\n",
       "  </thead>\n",
       "  <tbody>\n",
       "    <tr>\n",
       "      <th>0</th>\n",
       "      <td>2001</td>\n",
       "      <td>Elgin</td>\n",
       "      <td>United Kingdom</td>\n",
       "      <td>0.0</td>\n",
       "      <td>17598.425781</td>\n",
       "      <td>54700.000000</td>\n",
       "      <td>1</td>\n",
       "      <td>44.099998</td>\n",
       "      <td>0.05</td>\n",
       "      <td>HP/HT</td>\n",
       "      <td>66</td>\n",
       "      <td>2001.0</td>\n",
       "      <td>2040.0</td>\n",
       "      <td>HP/HT</td>\n",
       "      <td>44.1</td>\n",
       "      <td>0.05</td>\n",
       "      <td>5364.0</td>\n",
       "    </tr>\n",
       "    <tr>\n",
       "      <th>1</th>\n",
       "      <td>2002</td>\n",
       "      <td>Elgin</td>\n",
       "      <td>United Kingdom</td>\n",
       "      <td>1.0</td>\n",
       "      <td>17598.425781</td>\n",
       "      <td>115380.000000</td>\n",
       "      <td>1</td>\n",
       "      <td>44.099998</td>\n",
       "      <td>0.05</td>\n",
       "      <td>HP/HT</td>\n",
       "      <td>66</td>\n",
       "      <td>2001.0</td>\n",
       "      <td>2040.0</td>\n",
       "      <td>HP/HT</td>\n",
       "      <td>44.1</td>\n",
       "      <td>0.05</td>\n",
       "      <td>5364.0</td>\n",
       "    </tr>\n",
       "    <tr>\n",
       "      <th>2</th>\n",
       "      <td>2003</td>\n",
       "      <td>Elgin</td>\n",
       "      <td>United Kingdom</td>\n",
       "      <td>2.0</td>\n",
       "      <td>17598.425781</td>\n",
       "      <td>125609.203125</td>\n",
       "      <td>1</td>\n",
       "      <td>44.099998</td>\n",
       "      <td>0.05</td>\n",
       "      <td>HP/HT</td>\n",
       "      <td>66</td>\n",
       "      <td>2001.0</td>\n",
       "      <td>2040.0</td>\n",
       "      <td>HP/HT</td>\n",
       "      <td>44.1</td>\n",
       "      <td>0.05</td>\n",
       "      <td>5364.0</td>\n",
       "    </tr>\n",
       "    <tr>\n",
       "      <th>3</th>\n",
       "      <td>2004</td>\n",
       "      <td>Elgin</td>\n",
       "      <td>United Kingdom</td>\n",
       "      <td>3.0</td>\n",
       "      <td>17598.425781</td>\n",
       "      <td>129274.796875</td>\n",
       "      <td>1</td>\n",
       "      <td>44.099998</td>\n",
       "      <td>0.05</td>\n",
       "      <td>HP/HT</td>\n",
       "      <td>66</td>\n",
       "      <td>2001.0</td>\n",
       "      <td>2040.0</td>\n",
       "      <td>HP/HT</td>\n",
       "      <td>44.1</td>\n",
       "      <td>0.05</td>\n",
       "      <td>5364.0</td>\n",
       "    </tr>\n",
       "    <tr>\n",
       "      <th>4</th>\n",
       "      <td>2005</td>\n",
       "      <td>Elgin</td>\n",
       "      <td>United Kingdom</td>\n",
       "      <td>4.0</td>\n",
       "      <td>17598.425781</td>\n",
       "      <td>109682.000000</td>\n",
       "      <td>1</td>\n",
       "      <td>44.099998</td>\n",
       "      <td>0.05</td>\n",
       "      <td>HP/HT</td>\n",
       "      <td>66</td>\n",
       "      <td>2001.0</td>\n",
       "      <td>2040.0</td>\n",
       "      <td>HP/HT</td>\n",
       "      <td>44.1</td>\n",
       "      <td>0.05</td>\n",
       "      <td>5364.0</td>\n",
       "    </tr>\n",
       "  </tbody>\n",
       "</table>\n",
       "</div>"
      ],
      "text/plain": [
       "   year field_name    country_name  field_age   field_depth     production  \\\n",
       "0  2001      Elgin  United Kingdom        0.0  17598.425781   54700.000000   \n",
       "1  2002      Elgin  United Kingdom        1.0  17598.425781  115380.000000   \n",
       "2  2003      Elgin  United Kingdom        2.0  17598.425781  125609.203125   \n",
       "3  2004      Elgin  United Kingdom        3.0  17598.425781  129274.796875   \n",
       "4  2005      Elgin  United Kingdom        4.0  17598.425781  109682.000000   \n",
       "\n",
       "   offshore        api   h2s control_psi_temp  id_field  y_prod_start  \\\n",
       "0         1  44.099998  0.05            HP/HT        66        2001.0   \n",
       "1         1  44.099998  0.05            HP/HT        66        2001.0   \n",
       "2         1  44.099998  0.05            HP/HT        66        2001.0   \n",
       "3         1  44.099998  0.05            HP/HT        66        2001.0   \n",
       "4         1  44.099998  0.05            HP/HT        66        2001.0   \n",
       "\n",
       "   y_prod_end field_class_hp_ht  f_api__api  f_sulphur__prc  \\\n",
       "0      2040.0             HP/HT        44.1            0.05   \n",
       "1      2040.0             HP/HT        44.1            0.05   \n",
       "2      2040.0             HP/HT        44.1            0.05   \n",
       "3      2040.0             HP/HT        44.1            0.05   \n",
       "4      2040.0             HP/HT        44.1            0.05   \n",
       "\n",
       "   f_reservoir_depth__mtr  \n",
       "0                  5364.0  \n",
       "1                  5364.0  \n",
       "2                  5364.0  \n",
       "3                  5364.0  \n",
       "4                  5364.0  "
      ]
     },
     "execution_count": 21,
     "metadata": {},
     "output_type": "execute_result"
    }
   ],
   "source": [
    "inputs = pd.read_excel('C:/Users/jing/Documents/Bocconi/DSBA/OPGEE/field_data_for_opgee.xlsx')\n",
    "prob_opgee = pd.read_csv('Pressure_Temperature_Problems.csv').drop('Unnamed: 0', axis = 1)\n",
    "print(prob_opgee.shape)\n",
    "all_fields = inputs[(inputs['id_field'].isin(prob_opgee['id_field'])) & (inputs['production'] != 0)].reset_index(drop = True)\n",
    "print(all_fields.shape)\n",
    "all_fields.head()"
   ]
  },
  {
   "cell_type": "code",
   "execution_count": 22,
   "id": "8759801a",
   "metadata": {},
   "outputs": [],
   "source": [
    "#Only high pressure\n",
    "\n",
    "n_fields = all_fields.shape[0]\n",
    "running_times = []\n",
    "\n",
    "xw.App(visible = False)\n",
    "opgee_file = xw.books.open('C:/Users/jing/Documents/Bocconi/DSBA/OPGEE/OPGEE_3.0b_BETA.xlsm')\n",
    "inputs_sheet = opgee_file.sheets('Inputs')\n",
    "results_sheet = opgee_file.sheets('Results')\n",
    "production_methods_default = inputs_sheet.range('G9:G17').value\n",
    "\n",
    "for i in range(n_fields):\n",
    "    col = all_letters[i]\n",
    "    inputs_sheet.range(f'{col}9:{col}17').value = production_methods_default\n",
    "    inputs_sheet.range(f'{col}20').value = all_fields.loc[i, 'country_name']\n",
    "    inputs_sheet.range(f'{col}21').value = all_fields.loc[i, 'field_name']\n",
    "    inputs_sheet.range(f'{col}22').value = all_fields.loc[i, 'field_age']\n",
    "    inputs_sheet.range(f'{col}23').value = all_fields.loc[i, 'field_depth']\n",
    "    inputs_sheet.range(f'{col}24').value = all_fields.loc[i, 'production']\n",
    "    #Pressure\n",
    "    inputs_sheet.range(f'{col}29').value = 10000\n",
    "    inputs_sheet.range(f'{col}31').value = all_fields.loc[i, 'offshore']\n",
    "    inputs_sheet.range(f'{col}34').value = all_fields.loc[i, 'api']\n",
    "    inputs_sheet.range(f'{col}42').value = all_fields.loc[i, 'h2s']\n",
    "\n",
    "inputs_sheet.range('C2').value = n_fields + 1\n",
    "\n",
    "start_time = time.time()\n",
    "trial_macro = opgee_file.macro('BulkAssessment.UltraBulk_assessment')\n",
    "trial_macro()\n",
    "end_time = time.time()\n",
    "running_times.append((end_time - start_time)/60)\n",
    "\n",
    "end_bound = all_letters[n_fields-1]\n",
    "emissions = results_sheet.range(f'I193:{end_bound}193').value\n",
    "all_fields['Pressure_Emission'] = emissions\n",
    "\n",
    "opgee_file.close()"
   ]
  },
  {
   "cell_type": "code",
   "execution_count": 23,
   "id": "b0190eab",
   "metadata": {},
   "outputs": [],
   "source": [
    "#Only high temperature\n",
    "\n",
    "xw.App(visible = False)\n",
    "opgee_file = xw.books.open('C:/Users/jing/Documents/Bocconi/DSBA/OPGEE/OPGEE_3.0b_BETA.xlsm')\n",
    "inputs_sheet = opgee_file.sheets('Inputs')\n",
    "results_sheet = opgee_file.sheets('Results')\n",
    "production_methods_default = inputs_sheet.range('G9:G17').value\n",
    "\n",
    "for i in range(n_fields):\n",
    "    col = all_letters[i]\n",
    "    inputs_sheet.range(f'{col}9:{col}17').value = production_methods_default\n",
    "    inputs_sheet.range(f'{col}20').value = all_fields.loc[i, 'country_name']\n",
    "    inputs_sheet.range(f'{col}21').value = all_fields.loc[i, 'field_name']\n",
    "    inputs_sheet.range(f'{col}22').value = all_fields.loc[i, 'field_age']\n",
    "    inputs_sheet.range(f'{col}23').value = all_fields.loc[i, 'field_depth']\n",
    "    inputs_sheet.range(f'{col}24').value = all_fields.loc[i, 'production']\n",
    "    #Temperature\n",
    "    inputs_sheet.range(f'{col}30').value = 302\n",
    "    inputs_sheet.range(f'{col}31').value = all_fields.loc[i, 'offshore']\n",
    "    inputs_sheet.range(f'{col}34').value = all_fields.loc[i, 'api']\n",
    "    inputs_sheet.range(f'{col}42').value = all_fields.loc[i, 'h2s']\n",
    "\n",
    "inputs_sheet.range('C2').value = n_fields + 1\n",
    "\n",
    "start_time = time.time()\n",
    "trial_macro = opgee_file.macro('BulkAssessment.UltraBulk_assessment')\n",
    "trial_macro()\n",
    "end_time = time.time()\n",
    "running_times.append((end_time - start_time)/60)\n",
    "\n",
    "end_bound = all_letters[n_fields-1]\n",
    "emissions = results_sheet.range(f'I193:{end_bound}193').value\n",
    "all_fields['Temperature_Emission'] = emissions\n",
    "\n",
    "opgee_file.close()"
   ]
  },
  {
   "cell_type": "code",
   "execution_count": 24,
   "id": "48355257",
   "metadata": {},
   "outputs": [],
   "source": [
    "#Both high pressure and temperature\n",
    "\n",
    "xw.App(visible = False)\n",
    "opgee_file = xw.books.open('C:/Users/jing/Documents/Bocconi/DSBA/OPGEE/OPGEE_3.0b_BETA.xlsm')\n",
    "inputs_sheet = opgee_file.sheets('Inputs')\n",
    "results_sheet = opgee_file.sheets('Results')\n",
    "production_methods_default = inputs_sheet.range('G9:G17').value\n",
    "\n",
    "for i in range(n_fields):\n",
    "    col = all_letters[i]\n",
    "    inputs_sheet.range(f'{col}9:{col}17').value = production_methods_default\n",
    "    inputs_sheet.range(f'{col}20').value = all_fields.loc[i, 'country_name']\n",
    "    inputs_sheet.range(f'{col}21').value = all_fields.loc[i, 'field_name']\n",
    "    inputs_sheet.range(f'{col}22').value = all_fields.loc[i, 'field_age']\n",
    "    inputs_sheet.range(f'{col}23').value = all_fields.loc[i, 'field_depth']\n",
    "    inputs_sheet.range(f'{col}24').value = all_fields.loc[i, 'production']\n",
    "    #Pressure\n",
    "    inputs_sheet.range(f'{col}29').value = 10000\n",
    "    #Temperature\n",
    "    inputs_sheet.range(f'{col}30').value = 302\n",
    "    inputs_sheet.range(f'{col}31').value = all_fields.loc[i, 'offshore']\n",
    "    inputs_sheet.range(f'{col}34').value = all_fields.loc[i, 'api']\n",
    "    inputs_sheet.range(f'{col}42').value = all_fields.loc[i, 'h2s']\n",
    "\n",
    "inputs_sheet.range('C2').value = n_fields + 1\n",
    "\n",
    "start_time = time.time()\n",
    "trial_macro = opgee_file.macro('BulkAssessment.UltraBulk_assessment')\n",
    "trial_macro()\n",
    "end_time = time.time()\n",
    "running_times.append((end_time - start_time)/60)\n",
    "\n",
    "end_bound = all_letters[n_fields-1]\n",
    "emissions = results_sheet.range(f'I193:{end_bound}193').value\n",
    "all_fields['Pressure_Temperature_Emission'] = emissions\n",
    "\n",
    "opgee_file.close()"
   ]
  },
  {
   "cell_type": "code",
   "execution_count": 25,
   "id": "da6559c3",
   "metadata": {},
   "outputs": [],
   "source": [
    "all_fields.to_csv('Sensitivity_OPGEE.csv')"
   ]
  },
  {
   "cell_type": "code",
   "execution_count": 26,
   "id": "5ca5b5d4",
   "metadata": {},
   "outputs": [
    {
     "data": {
      "text/plain": [
       "[56.76379728317261, 56.807267944018044, 58.18112354278564]"
      ]
     },
     "execution_count": 26,
     "metadata": {},
     "output_type": "execute_result"
    }
   ],
   "source": [
    "running_times"
   ]
  },
  {
   "cell_type": "code",
   "execution_count": 35,
   "id": "a64359f6",
   "metadata": {},
   "outputs": [
    {
     "name": "stdout",
     "output_type": "stream",
     "text": [
      "(155, 9)\n"
     ]
    }
   ],
   "source": [
    "sens_opgee = pd.read_csv('Sensitivity_OPGEE.csv').drop('Unnamed: 0', axis = 1)\n",
    "opgee = pd.read_csv('OPGEE_Data.csv').drop('Unnamed: 0', axis = 1)\n",
    "opgee = opgee[(opgee['field_name'].isin(sens_opgee['field_name'])) & (opgee['production'] > 0)].reset_index(drop = True)\n",
    "print(opgee.shape)"
   ]
  },
  {
   "cell_type": "code",
   "execution_count": 43,
   "id": "83c963dd",
   "metadata": {},
   "outputs": [
    {
     "data": {
      "text/html": [
       "<div>\n",
       "<style scoped>\n",
       "    .dataframe tbody tr th:only-of-type {\n",
       "        vertical-align: middle;\n",
       "    }\n",
       "\n",
       "    .dataframe tbody tr th {\n",
       "        vertical-align: top;\n",
       "    }\n",
       "\n",
       "    .dataframe thead th {\n",
       "        text-align: right;\n",
       "    }\n",
       "</style>\n",
       "<table border=\"1\" class=\"dataframe\">\n",
       "  <thead>\n",
       "    <tr style=\"text-align: right;\">\n",
       "      <th></th>\n",
       "      <th>Pressure_Emission</th>\n",
       "      <th>Temperature_Emission</th>\n",
       "      <th>Pressure_Temperature_Emission</th>\n",
       "      <th>Emission</th>\n",
       "    </tr>\n",
       "  </thead>\n",
       "  <tbody>\n",
       "    <tr>\n",
       "      <th>0</th>\n",
       "      <td>6.158093</td>\n",
       "      <td>6.049479</td>\n",
       "      <td>6.158093</td>\n",
       "      <td>6.049479</td>\n",
       "    </tr>\n",
       "    <tr>\n",
       "      <th>1</th>\n",
       "      <td>6.165345</td>\n",
       "      <td>6.044268</td>\n",
       "      <td>6.165345</td>\n",
       "      <td>6.044268</td>\n",
       "    </tr>\n",
       "    <tr>\n",
       "      <th>2</th>\n",
       "      <td>6.178735</td>\n",
       "      <td>6.056054</td>\n",
       "      <td>6.178735</td>\n",
       "      <td>6.056025</td>\n",
       "    </tr>\n",
       "    <tr>\n",
       "      <th>3</th>\n",
       "      <td>6.192537</td>\n",
       "      <td>6.072467</td>\n",
       "      <td>6.192537</td>\n",
       "      <td>6.072737</td>\n",
       "    </tr>\n",
       "    <tr>\n",
       "      <th>4</th>\n",
       "      <td>6.207074</td>\n",
       "      <td>6.090466</td>\n",
       "      <td>6.207074</td>\n",
       "      <td>6.091018</td>\n",
       "    </tr>\n",
       "  </tbody>\n",
       "</table>\n",
       "</div>"
      ],
      "text/plain": [
       "   Pressure_Emission  Temperature_Emission  Pressure_Temperature_Emission  \\\n",
       "0           6.158093              6.049479                       6.158093   \n",
       "1           6.165345              6.044268                       6.165345   \n",
       "2           6.178735              6.056054                       6.178735   \n",
       "3           6.192537              6.072467                       6.192537   \n",
       "4           6.207074              6.090466                       6.207074   \n",
       "\n",
       "   Emission  \n",
       "0  6.049479  \n",
       "1  6.044268  \n",
       "2  6.056025  \n",
       "3  6.072737  \n",
       "4  6.091018  "
      ]
     },
     "execution_count": 43,
     "metadata": {},
     "output_type": "execute_result"
    }
   ],
   "source": [
    "comp_opgee = pd.merge(sens_opgee, opgee, on = ['field_name', 'field_age'])\n",
    "emis_cols = np.array([comp_opgee.columns[i] if 'Emission' in comp_opgee.columns[i] else '' for i in range(len(comp_opgee.columns))])\n",
    "emis_cols = emis_cols[emis_cols != '']\n",
    "comp_opgee = comp_opgee[emis_cols]\n",
    "comp_opgee.head()"
   ]
  },
  {
   "cell_type": "code",
   "execution_count": 59,
   "id": "3340626d",
   "metadata": {},
   "outputs": [
    {
     "data": {
      "text/html": [
       "<div>\n",
       "<style scoped>\n",
       "    .dataframe tbody tr th:only-of-type {\n",
       "        vertical-align: middle;\n",
       "    }\n",
       "\n",
       "    .dataframe tbody tr th {\n",
       "        vertical-align: top;\n",
       "    }\n",
       "\n",
       "    .dataframe thead th {\n",
       "        text-align: right;\n",
       "    }\n",
       "</style>\n",
       "<table border=\"1\" class=\"dataframe\">\n",
       "  <thead>\n",
       "    <tr style=\"text-align: right;\">\n",
       "      <th></th>\n",
       "      <th>Pressure_Emission</th>\n",
       "      <th>Temperature_Emission</th>\n",
       "      <th>Pressure_Temperature_Emission</th>\n",
       "      <th>Emission</th>\n",
       "      <th>Pressure_Difference</th>\n",
       "      <th>Temperature_Difference</th>\n",
       "      <th>Pressure_Temperature_Difference</th>\n",
       "    </tr>\n",
       "  </thead>\n",
       "  <tbody>\n",
       "    <tr>\n",
       "      <th>0</th>\n",
       "      <td>6.158093</td>\n",
       "      <td>6.049479</td>\n",
       "      <td>6.158093</td>\n",
       "      <td>6.049479</td>\n",
       "      <td>-0.108614</td>\n",
       "      <td>0.000000</td>\n",
       "      <td>-0.108614</td>\n",
       "    </tr>\n",
       "    <tr>\n",
       "      <th>1</th>\n",
       "      <td>6.165345</td>\n",
       "      <td>6.044268</td>\n",
       "      <td>6.165345</td>\n",
       "      <td>6.044268</td>\n",
       "      <td>-0.121077</td>\n",
       "      <td>0.000000</td>\n",
       "      <td>-0.121077</td>\n",
       "    </tr>\n",
       "    <tr>\n",
       "      <th>2</th>\n",
       "      <td>6.178735</td>\n",
       "      <td>6.056054</td>\n",
       "      <td>6.178735</td>\n",
       "      <td>6.056025</td>\n",
       "      <td>-0.122710</td>\n",
       "      <td>-0.000029</td>\n",
       "      <td>-0.122710</td>\n",
       "    </tr>\n",
       "    <tr>\n",
       "      <th>3</th>\n",
       "      <td>6.192537</td>\n",
       "      <td>6.072467</td>\n",
       "      <td>6.192537</td>\n",
       "      <td>6.072737</td>\n",
       "      <td>-0.119800</td>\n",
       "      <td>0.000270</td>\n",
       "      <td>-0.119800</td>\n",
       "    </tr>\n",
       "    <tr>\n",
       "      <th>4</th>\n",
       "      <td>6.207074</td>\n",
       "      <td>6.090466</td>\n",
       "      <td>6.207074</td>\n",
       "      <td>6.091018</td>\n",
       "      <td>-0.116056</td>\n",
       "      <td>0.000552</td>\n",
       "      <td>-0.116056</td>\n",
       "    </tr>\n",
       "  </tbody>\n",
       "</table>\n",
       "</div>"
      ],
      "text/plain": [
       "   Pressure_Emission  Temperature_Emission  Pressure_Temperature_Emission  \\\n",
       "0           6.158093              6.049479                       6.158093   \n",
       "1           6.165345              6.044268                       6.165345   \n",
       "2           6.178735              6.056054                       6.178735   \n",
       "3           6.192537              6.072467                       6.192537   \n",
       "4           6.207074              6.090466                       6.207074   \n",
       "\n",
       "   Emission  Pressure_Difference  Temperature_Difference  \\\n",
       "0  6.049479            -0.108614                0.000000   \n",
       "1  6.044268            -0.121077                0.000000   \n",
       "2  6.056025            -0.122710               -0.000029   \n",
       "3  6.072737            -0.119800                0.000270   \n",
       "4  6.091018            -0.116056                0.000552   \n",
       "\n",
       "   Pressure_Temperature_Difference  \n",
       "0                        -0.108614  \n",
       "1                        -0.121077  \n",
       "2                        -0.122710  \n",
       "3                        -0.119800  \n",
       "4                        -0.116056  "
      ]
     },
     "execution_count": 59,
     "metadata": {},
     "output_type": "execute_result"
    }
   ],
   "source": [
    "for i in range(len(comp_opgee.columns)):\n",
    "    col = comp_opgee.columns[i]\n",
    "    if '_' in col:\n",
    "        new_col = '_'.join(col.split('_')[:-1]) + '_Difference'\n",
    "        comp_opgee[new_col] = comp_opgee['Emission'] - comp_opgee[col]\n",
    "comp_opgee.head()"
   ]
  },
  {
   "cell_type": "markdown",
   "id": "d7061a92",
   "metadata": {},
   "source": [
    "As it's possible to see, the effect on the computed emissions is marginal:\n",
    "- With high pressure, the difference is between -0.35 and -0.10.\n",
    "- With high temperature, the difference is between -0.0010 and 0.0020.\n",
    "- With both high temperature and pressure, the difference is between -0.35 and -0.10"
   ]
  },
  {
   "cell_type": "code",
   "execution_count": 60,
   "id": "b1e1c38b",
   "metadata": {},
   "outputs": [
    {
     "data": {
      "image/png": "[encoded data removed]",
      "text/plain": [
       "<Figure size 432x288 with 1 Axes>"
      ]
     },
     "metadata": {
      "needs_background": "light"
     },
     "output_type": "display_data"
    },
    {
     "data": {
      "image/png": "[encoded data removed]",
      "text/plain": [
       "<Figure size 432x288 with 1 Axes>"
      ]
     },
     "metadata": {
      "needs_background": "light"
     },
     "output_type": "display_data"
    },
    {
     "data": {
      "image/png": "[encoded data removed]",
      "text/plain": [
       "<Figure size 432x288 with 1 Axes>"
      ]
     },
     "metadata": {
      "needs_background": "light"
     },
     "output_type": "display_data"
    }
   ],
   "source": [
    "for i in range(len(comp_opgee.columns)):\n",
    "    col = comp_opgee.columns[i]\n",
    "    if 'Difference' in col:\n",
    "        plt.hist(comp_opgee[col], bins = 40, density = True)\n",
    "        plt.title(col)\n",
    "        plt.show()"
   ]
  },
  {
   "cell_type": "markdown",
   "id": "3dd79e02",
   "metadata": {},
   "source": [
    "# 3 -  Emissions Predictions"
   ]
  },
  {
   "cell_type": "markdown",
   "id": "6724f111",
   "metadata": {},
   "source": [
    "The function cross_validation computes the mean squared error of the chosen model (which is by default a Random Forest), and it computes it through cross validation (by default 7-fold cross validation). \n",
    "If the used model is a Random Forest, then the function returns both the MSE and the features importances."
   ]
  },
  {
   "cell_type": "code",
   "execution_count": 27,
   "id": "c1aa3085",
   "metadata": {},
   "outputs": [],
   "source": [
    "def mean_squared_error(y_true, y_pred):\n",
    "    return np.mean((y_true - y_pred)**2)"
   ]
  },
  {
   "cell_type": "code",
   "execution_count": 28,
   "id": "208756c8",
   "metadata": {},
   "outputs": [],
   "source": [
    "def cross_validation(x, y, n = 7, model = RandomForestRegressor()):\n",
    "    sample = len(x)//n\n",
    "    \n",
    "    mean_importances = np.zeros(shape = x.shape[1])\n",
    "    mses = []\n",
    "    all_preds = np.zeros(shape = len(y))\n",
    "    all_indexes = np.arange(len(x))\n",
    "\n",
    "    for i in tqdm(range(n)):\n",
    "        test_indexes = np.random.choice(all_indexes, size = sample, replace = False)\n",
    "        train_indexes = [j for j in range(len(y)) if j not in test_indexes]\n",
    "        train_x = x[train_indexes]\n",
    "        test_x = x[test_indexes]\n",
    "\n",
    "        train_y = y[train_indexes]\n",
    "        test_y = y[test_indexes]\n",
    "\n",
    "        model.fit(train_x, train_y)\n",
    "        try:\n",
    "            mean_importances += model.feature_importances_\n",
    "        except:\n",
    "            pass\n",
    "        preds = model.predict(test_x)\n",
    "        all_preds[len(test_x)*i:len(test_x)*(i+1)] = preds\n",
    "        \n",
    "        mse = mean_squared_error(test_y, preds)\n",
    "        mses.append(mse)\n",
    "                \n",
    "        all_indexes = list(all_indexes)\n",
    "        for index in test_indexes:\n",
    "            all_indexes.remove(index)\n",
    "        all_indexes = np.array(all_indexes)\n",
    "        \n",
    "    return np.array(mses), mean_importances/n"
   ]
  },
  {
   "cell_type": "markdown",
   "id": "f9994374",
   "metadata": {},
   "source": [
    "## 3.1 - Variables Analysis"
   ]
  },
  {
   "cell_type": "code",
   "execution_count": 15,
   "id": "888af102",
   "metadata": {},
   "outputs": [
    {
     "name": "stdout",
     "output_type": "stream",
     "text": [
      "(6075, 8)\n"
     ]
    },
    {
     "data": {
      "text/html": [
       "<div>\n",
       "<style scoped>\n",
       "    .dataframe tbody tr th:only-of-type {\n",
       "        vertical-align: middle;\n",
       "    }\n",
       "\n",
       "    .dataframe tbody tr th {\n",
       "        vertical-align: top;\n",
       "    }\n",
       "\n",
       "    .dataframe thead th {\n",
       "        text-align: right;\n",
       "    }\n",
       "</style>\n",
       "<table border=\"1\" class=\"dataframe\">\n",
       "  <thead>\n",
       "    <tr style=\"text-align: right;\">\n",
       "      <th></th>\n",
       "      <th>country_name</th>\n",
       "      <th>field_age</th>\n",
       "      <th>field_depth</th>\n",
       "      <th>production</th>\n",
       "      <th>offshore</th>\n",
       "      <th>api</th>\n",
       "      <th>h2s</th>\n",
       "      <th>Emission</th>\n",
       "    </tr>\n",
       "  </thead>\n",
       "  <tbody>\n",
       "    <tr>\n",
       "      <th>0</th>\n",
       "      <td>United Kingdom</td>\n",
       "      <td>0.0</td>\n",
       "      <td>6000.65625</td>\n",
       "      <td>44000.0</td>\n",
       "      <td>1</td>\n",
       "      <td>19.4</td>\n",
       "      <td>1.25</td>\n",
       "      <td>5.427825</td>\n",
       "    </tr>\n",
       "    <tr>\n",
       "      <th>1</th>\n",
       "      <td>United Kingdom</td>\n",
       "      <td>1.0</td>\n",
       "      <td>6000.65625</td>\n",
       "      <td>69500.0</td>\n",
       "      <td>1</td>\n",
       "      <td>19.4</td>\n",
       "      <td>1.25</td>\n",
       "      <td>5.419328</td>\n",
       "    </tr>\n",
       "    <tr>\n",
       "      <th>2</th>\n",
       "      <td>United Kingdom</td>\n",
       "      <td>2.0</td>\n",
       "      <td>6000.65625</td>\n",
       "      <td>69930.0</td>\n",
       "      <td>1</td>\n",
       "      <td>19.4</td>\n",
       "      <td>1.25</td>\n",
       "      <td>5.425938</td>\n",
       "    </tr>\n",
       "    <tr>\n",
       "      <th>3</th>\n",
       "      <td>United Kingdom</td>\n",
       "      <td>3.0</td>\n",
       "      <td>6000.65625</td>\n",
       "      <td>90865.0</td>\n",
       "      <td>1</td>\n",
       "      <td>19.4</td>\n",
       "      <td>1.25</td>\n",
       "      <td>5.433522</td>\n",
       "    </tr>\n",
       "    <tr>\n",
       "      <th>4</th>\n",
       "      <td>United Kingdom</td>\n",
       "      <td>4.0</td>\n",
       "      <td>6000.65625</td>\n",
       "      <td>80910.0</td>\n",
       "      <td>1</td>\n",
       "      <td>19.4</td>\n",
       "      <td>1.25</td>\n",
       "      <td>5.446432</td>\n",
       "    </tr>\n",
       "  </tbody>\n",
       "</table>\n",
       "</div>"
      ],
      "text/plain": [
       "     country_name  field_age  field_depth  production  offshore   api   h2s  \\\n",
       "0  United Kingdom        0.0   6000.65625     44000.0         1  19.4  1.25   \n",
       "1  United Kingdom        1.0   6000.65625     69500.0         1  19.4  1.25   \n",
       "2  United Kingdom        2.0   6000.65625     69930.0         1  19.4  1.25   \n",
       "3  United Kingdom        3.0   6000.65625     90865.0         1  19.4  1.25   \n",
       "4  United Kingdom        4.0   6000.65625     80910.0         1  19.4  1.25   \n",
       "\n",
       "   Emission  \n",
       "0  5.427825  \n",
       "1  5.419328  \n",
       "2  5.425938  \n",
       "3  5.433522  \n",
       "4  5.446432  "
      ]
     },
     "execution_count": 15,
     "metadata": {},
     "output_type": "execute_result"
    }
   ],
   "source": [
    "opgee = pd.read_csv('OPGEE_Data.csv').drop('Unnamed: 0', axis = 1)\n",
    "opgee = opgee.drop('field_name', axis = 1)\n",
    "opgee = opgee[opgee['field_age'] >= 0].reset_index(drop = True)\n",
    "print(opgee.shape)\n",
    "opgee.head()"
   ]
  },
  {
   "cell_type": "markdown",
   "id": "30cfdd6c",
   "metadata": {},
   "source": [
    "The code below computes the number of unique values for each attribute."
   ]
  },
  {
   "cell_type": "code",
   "execution_count": 5,
   "id": "20040467",
   "metadata": {},
   "outputs": [
    {
     "name": "stdout",
     "output_type": "stream",
     "text": [
      "Number of unique elements per attribute:\n",
      "country_name: 2\n",
      "field_age: 44\n",
      "field_depth: 254\n",
      "production: 5093\n",
      "offshore: 1\n",
      "offshore removed\n",
      "api: 1510\n",
      "h2s: 2335\n",
      "Emission: 6066\n"
     ]
    }
   ],
   "source": [
    "print('Number of unique elements per attribute:')\n",
    "for col in opgee.columns:\n",
    "    print(f'{col}: {len(set(opgee[col]))}')\n",
    "    if len(set(opgee[col])) == 1:\n",
    "        opgee.drop(col, axis = 1, inplace = True)\n",
    "        print(f'{col} removed')"
   ]
  },
  {
   "cell_type": "markdown",
   "id": "73457ddb",
   "metadata": {},
   "source": [
    "Due to the existence of significant emissions outliers which may compromise learning, the emissions have first been winsorized, the distribution of which is displayed below."
   ]
  },
  {
   "cell_type": "code",
   "execution_count": 17,
   "id": "6fa1c7f7",
   "metadata": {},
   "outputs": [
    {
     "data": {
      "image/png": "[encoded data removed]",
      "text/plain": [
       "<Figure size 432x288 with 1 Axes>"
      ]
     },
     "metadata": {
      "needs_background": "light"
     },
     "output_type": "display_data"
    }
   ],
   "source": [
    "emissions = np.array(opgee['Emission'])\n",
    "w_emissions = winsorize(emissions, limits = [0.01, 0.01])\n",
    "plt.hist(w_emissions, bins = 50, density = True)\n",
    "plt.axvline(np.median(w_emissions), color = 'black', label = 'Median')\n",
    "plt.title('Distribution of Winsorized Emissions')\n",
    "plt.legend()\n",
    "plt.show()"
   ]
  },
  {
   "cell_type": "markdown",
   "id": "0f6af62d",
   "metadata": {},
   "source": [
    "The code below generates the dummy variable united_kingdom, which is equal to 1 if the country is the UK (given that in this dataset there exist only two countries)."
   ]
  },
  {
   "cell_type": "code",
   "execution_count": 18,
   "id": "484cd80b",
   "metadata": {},
   "outputs": [
    {
     "data": {
      "text/html": [
       "<div>\n",
       "<style scoped>\n",
       "    .dataframe tbody tr th:only-of-type {\n",
       "        vertical-align: middle;\n",
       "    }\n",
       "\n",
       "    .dataframe tbody tr th {\n",
       "        vertical-align: top;\n",
       "    }\n",
       "\n",
       "    .dataframe thead th {\n",
       "        text-align: right;\n",
       "    }\n",
       "</style>\n",
       "<table border=\"1\" class=\"dataframe\">\n",
       "  <thead>\n",
       "    <tr style=\"text-align: right;\">\n",
       "      <th></th>\n",
       "      <th>country_name</th>\n",
       "      <th>field_age</th>\n",
       "      <th>field_depth</th>\n",
       "      <th>production</th>\n",
       "      <th>offshore</th>\n",
       "      <th>api</th>\n",
       "      <th>h2s</th>\n",
       "      <th>Emission</th>\n",
       "      <th>Winsorized Emission</th>\n",
       "      <th>united_kingdom</th>\n",
       "    </tr>\n",
       "  </thead>\n",
       "  <tbody>\n",
       "    <tr>\n",
       "      <th>0</th>\n",
       "      <td>United Kingdom</td>\n",
       "      <td>0.0</td>\n",
       "      <td>6000.65625</td>\n",
       "      <td>44000.0</td>\n",
       "      <td>1</td>\n",
       "      <td>19.4</td>\n",
       "      <td>1.25</td>\n",
       "      <td>5.427825</td>\n",
       "      <td>5.427825</td>\n",
       "      <td>1</td>\n",
       "    </tr>\n",
       "    <tr>\n",
       "      <th>1</th>\n",
       "      <td>United Kingdom</td>\n",
       "      <td>1.0</td>\n",
       "      <td>6000.65625</td>\n",
       "      <td>69500.0</td>\n",
       "      <td>1</td>\n",
       "      <td>19.4</td>\n",
       "      <td>1.25</td>\n",
       "      <td>5.419328</td>\n",
       "      <td>5.419328</td>\n",
       "      <td>1</td>\n",
       "    </tr>\n",
       "    <tr>\n",
       "      <th>2</th>\n",
       "      <td>United Kingdom</td>\n",
       "      <td>2.0</td>\n",
       "      <td>6000.65625</td>\n",
       "      <td>69930.0</td>\n",
       "      <td>1</td>\n",
       "      <td>19.4</td>\n",
       "      <td>1.25</td>\n",
       "      <td>5.425938</td>\n",
       "      <td>5.425938</td>\n",
       "      <td>1</td>\n",
       "    </tr>\n",
       "    <tr>\n",
       "      <th>3</th>\n",
       "      <td>United Kingdom</td>\n",
       "      <td>3.0</td>\n",
       "      <td>6000.65625</td>\n",
       "      <td>90865.0</td>\n",
       "      <td>1</td>\n",
       "      <td>19.4</td>\n",
       "      <td>1.25</td>\n",
       "      <td>5.433522</td>\n",
       "      <td>5.433522</td>\n",
       "      <td>1</td>\n",
       "    </tr>\n",
       "    <tr>\n",
       "      <th>4</th>\n",
       "      <td>United Kingdom</td>\n",
       "      <td>4.0</td>\n",
       "      <td>6000.65625</td>\n",
       "      <td>80910.0</td>\n",
       "      <td>1</td>\n",
       "      <td>19.4</td>\n",
       "      <td>1.25</td>\n",
       "      <td>5.446432</td>\n",
       "      <td>5.446432</td>\n",
       "      <td>1</td>\n",
       "    </tr>\n",
       "  </tbody>\n",
       "</table>\n",
       "</div>"
      ],
      "text/plain": [
       "     country_name  field_age  field_depth  production  offshore   api   h2s  \\\n",
       "0  United Kingdom        0.0   6000.65625     44000.0         1  19.4  1.25   \n",
       "1  United Kingdom        1.0   6000.65625     69500.0         1  19.4  1.25   \n",
       "2  United Kingdom        2.0   6000.65625     69930.0         1  19.4  1.25   \n",
       "3  United Kingdom        3.0   6000.65625     90865.0         1  19.4  1.25   \n",
       "4  United Kingdom        4.0   6000.65625     80910.0         1  19.4  1.25   \n",
       "\n",
       "   Emission  Winsorized Emission  united_kingdom  \n",
       "0  5.427825             5.427825               1  \n",
       "1  5.419328             5.419328               1  \n",
       "2  5.425938             5.425938               1  \n",
       "3  5.433522             5.433522               1  \n",
       "4  5.446432             5.446432               1  "
      ]
     },
     "execution_count": 18,
     "metadata": {},
     "output_type": "execute_result"
    }
   ],
   "source": [
    "opgee['Winsorized Emission'] = w_emissions\n",
    "opgee['united_kingdom'] = opgee.apply(lambda x: 1 if x['country_name'] == 'United Kingdom' else 0, axis = 1)\n",
    "opgee.head()"
   ]
  },
  {
   "cell_type": "markdown",
   "id": "27851687",
   "metadata": {},
   "source": [
    "The code below displays the distribution of the quantitative variables in the dataset."
   ]
  },
  {
   "cell_type": "code",
   "execution_count": 19,
   "id": "38f9d22e",
   "metadata": {},
   "outputs": [
    {
     "data": {
      "image/png": "[encoded data removed]",
      "text/plain": [
       "<Figure size 1080x576 with 5 Axes>"
      ]
     },
     "metadata": {
      "needs_background": "light"
     },
     "output_type": "display_data"
    }
   ],
   "source": [
    "quant_cols = ['field_age', 'field_depth', 'production', 'api', 'h2s']\n",
    "plt.figure(figsize = (15,8))\n",
    "i = 1\n",
    "for col in quant_cols:\n",
    "    variables = opgee.loc[opgee[col].notnull(), col]\n",
    "    plt.subplot(2,3,i)\n",
    "    plt.hist(variables, bins = 40, density = True)\n",
    "    plt.axvline(np.median(variables), color = 'black', label = 'Median')\n",
    "    plt.legend()\n",
    "    plt.title(f'Distribution of {col}')\n",
    "    i += 1\n",
    "\n",
    "plt.show()"
   ]
  },
  {
   "cell_type": "markdown",
   "id": "de1f8828",
   "metadata": {},
   "source": [
    "## 3.2 -  Missing Values"
   ]
  },
  {
   "cell_type": "code",
   "execution_count": 96,
   "id": "67a20cfe",
   "metadata": {},
   "outputs": [
    {
     "name": "stdout",
     "output_type": "stream",
     "text": [
      "Null values of api: 23.292181069958847%\n",
      "Null values of h2s: 37.218106995884774%\n"
     ]
    }
   ],
   "source": [
    "for col in opgee.columns:\n",
    "    if opgee[col].isnull().any():\n",
    "        null_perc = opgee[opgee[col].isnull()].shape[0]*100/opgee.shape[0]\n",
    "        print(f'Null values of {col}: {null_perc}%')"
   ]
  },
  {
   "cell_type": "code",
   "execution_count": 105,
   "id": "408eb354",
   "metadata": {},
   "outputs": [
    {
     "data": {
      "image/png": "[encoded data removed]",
      "text/plain": [
       "<Figure size 432x288 with 2 Axes>"
      ]
     },
     "metadata": {
      "needs_background": "light"
     },
     "output_type": "display_data"
    }
   ],
   "source": [
    "corr_matrix = opgee.loc[(opgee['api'].notnull()) & (opgee['h2s'].notnull()), quant_cols].corr()\n",
    "sns.heatmap(corr_matrix, annot = True, cmap = 'PuBu')\n",
    "plt.title('Variables Correlation Matrix')\n",
    "plt.show()"
   ]
  },
  {
   "cell_type": "code",
   "execution_count": 20,
   "id": "a9338d83",
   "metadata": {},
   "outputs": [
    {
     "data": {
      "image/png": "[encoded data removed]",
      "text/plain": [
       "<Figure size 720x288 with 2 Axes>"
      ]
     },
     "metadata": {
      "needs_background": "light"
     },
     "output_type": "display_data"
    }
   ],
   "source": [
    "uk_h2s = np.array(opgee.loc[(opgee['country_name'] == 'United Kingdom') & (opgee['h2s'].notnull()), 'h2s'])\n",
    "nor_h2s = np.array(opgee.loc[(opgee['country_name'] == 'Norway') & (opgee['h2s'].notnull()), 'h2s'])\n",
    "\n",
    "plt.figure(figsize = (10,4))\n",
    "\n",
    "plt.subplot(1,2,1)\n",
    "plt.hist(uk_h2s, bins = 35, density = True)\n",
    "plt.axvline(np.median(uk_h2s), color = 'black', label = 'Median')\n",
    "plt.legend()\n",
    "plt.title('Distribution of h2s in United Kingdom')\n",
    "#plt.show()\n",
    "\n",
    "plt.subplot(1,2,2)\n",
    "plt.hist(nor_h2s, bins = 35, density = True)\n",
    "plt.axvline(np.median(nor_h2s), color = 'black', label = 'Median')\n",
    "plt.legend()\n",
    "plt.title('Distribution of h2s in Norway')\n",
    "plt.show()"
   ]
  },
  {
   "cell_type": "code",
   "execution_count": 134,
   "id": "20620fc9",
   "metadata": {},
   "outputs": [
    {
     "data": {
      "image/png": "[encoded data removed]",
      "text/plain": [
       "<Figure size 720x288 with 2 Axes>"
      ]
     },
     "metadata": {
      "needs_background": "light"
     },
     "output_type": "display_data"
    }
   ],
   "source": [
    "uk_api = np.array(opgee.loc[(opgee['country_name'] == 'United Kingdom') & (opgee['api'].notnull()), 'api'])\n",
    "nor_api = np.array(opgee.loc[(opgee['country_name'] == 'Norway') & (opgee['api'].notnull()), 'api'])\n",
    "\n",
    "plt.figure(figsize = (10,4))\n",
    "\n",
    "plt.subplot(1,2,1)\n",
    "plt.hist(uk_api, bins = 35, density = True)\n",
    "plt.axvline(np.median(uk_api), color = 'black', label = 'Median')\n",
    "plt.legend()\n",
    "plt.title('Distribution of api in United Kingdom')\n",
    "#plt.show()\n",
    "\n",
    "plt.subplot(1,2,2)\n",
    "plt.hist(nor_api, bins = 35, density = True)\n",
    "plt.axvline(np.median(nor_api), color = 'black', label = 'Median')\n",
    "plt.legend()\n",
    "plt.title('Distribution of api in Norway')\n",
    "plt.show()"
   ]
  },
  {
   "cell_type": "code",
   "execution_count": 9,
   "id": "37137691",
   "metadata": {},
   "outputs": [
    {
     "data": {
      "image/png": "[encoded data removed]",
      "text/plain": [
       "<Figure size 720x288 with 2 Axes>"
      ]
     },
     "metadata": {
      "needs_background": "light"
     },
     "output_type": "display_data"
    }
   ],
   "source": [
    "# Check whether emissions are correlated with missing values: h2s\n",
    "\n",
    "null_h2s_emissions = np.array(opgee.loc[opgee['h2s'].isnull(), 'Winsorized Emission'])\n",
    "not_null_h2s_emissions = np.array(opgee.loc[opgee['h2s'].notnull(), 'Winsorized Emission'])\n",
    "\n",
    "plt.figure(figsize = (10,4))\n",
    "\n",
    "plt.subplot(1,2,1)\n",
    "plt.hist(null_h2s_emissions, bins = 35, density = True)\n",
    "plt.axvline(np.median(null_h2s_emissions), color = 'black', label = 'Median')\n",
    "plt.legend()\n",
    "plt.title('Distribution of null h2s Emissions')\n",
    "#plt.show()\n",
    "\n",
    "plt.subplot(1,2,2)\n",
    "plt.hist(not_null_h2s_emissions, bins = 35, density = True)\n",
    "plt.axvline(np.median(not_null_h2s_emissions), color = 'black', label = 'Median')\n",
    "plt.legend()\n",
    "plt.title('Distribution of not null h2s Emissions')\n",
    "plt.show()"
   ]
  },
  {
   "cell_type": "code",
   "execution_count": 10,
   "id": "d19eca64",
   "metadata": {},
   "outputs": [
    {
     "data": {
      "image/png": "[encoded data removed]",
      "text/plain": [
       "<Figure size 720x288 with 2 Axes>"
      ]
     },
     "metadata": {
      "needs_background": "light"
     },
     "output_type": "display_data"
    }
   ],
   "source": [
    "# Check whether emissions are correlated with missing values: api\n",
    "\n",
    "null_api_emissions = np.array(opgee.loc[opgee['api'].isnull(), 'Winsorized Emission'])\n",
    "not_null_api_emissions = np.array(opgee.loc[opgee['api'].notnull(), 'Winsorized Emission'])\n",
    "\n",
    "plt.figure(figsize = (10,4))\n",
    "\n",
    "plt.subplot(1,2,1)\n",
    "plt.hist(null_api_emissions, bins = 35, density = True)\n",
    "plt.axvline(np.median(null_api_emissions), color = 'black', label = 'Median')\n",
    "plt.legend()\n",
    "plt.title('Distribution of null api Emissions')\n",
    "#plt.show()\n",
    "\n",
    "plt.subplot(1,2,2)\n",
    "plt.hist(not_null_api_emissions, bins = 35, density = True)\n",
    "plt.axvline(np.median(not_null_api_emissions), color = 'black', label = 'Median')\n",
    "plt.legend()\n",
    "plt.title('Distribution of not null api Emissions')\n",
    "plt.show()"
   ]
  },
  {
   "cell_type": "code",
   "execution_count": 22,
   "id": "afd0063b",
   "metadata": {},
   "outputs": [
    {
     "data": {
      "image/png": "[encoded data removed]",
      "text/plain": [
       "<Figure size 720x288 with 2 Axes>"
      ]
     },
     "metadata": {
      "needs_background": "light"
     },
     "output_type": "display_data"
    }
   ],
   "source": [
    "# Check the difference between UK and Norway emissions\n",
    "\n",
    "uk_h2s_emissions = np.array(opgee.loc[opgee['united_kingdom'] == 1, 'Winsorized Emission'])\n",
    "not_uk_h2s_emissions = np.array(opgee.loc[opgee['united_kingdom'] == 0, 'Winsorized Emission'])\n",
    "\n",
    "plt.figure(figsize = (10,4))\n",
    "\n",
    "plt.subplot(1,2,1)\n",
    "plt.hist(uk_h2s_emissions, bins = 35, density = True)\n",
    "plt.axvline(np.median(uk_h2s_emissions), color = 'black', label = 'Median')\n",
    "plt.legend()\n",
    "plt.title('Distribution of UK Emissions')\n",
    "#plt.show()\n",
    "\n",
    "plt.subplot(1,2,2)\n",
    "plt.hist(not_uk_h2s_emissions, bins = 35, density = True)\n",
    "plt.axvline(np.median(not_uk_h2s_emissions), color = 'black', label = 'Median')\n",
    "plt.legend()\n",
    "plt.title('Distribution of Norway Emissions')\n",
    "plt.show()"
   ]
  },
  {
   "cell_type": "code",
   "execution_count": 140,
   "id": "3b94a8fa",
   "metadata": {},
   "outputs": [
    {
     "data": {
      "text/html": [
       "<div>\n",
       "<style scoped>\n",
       "    .dataframe tbody tr th:only-of-type {\n",
       "        vertical-align: middle;\n",
       "    }\n",
       "\n",
       "    .dataframe tbody tr th {\n",
       "        vertical-align: top;\n",
       "    }\n",
       "\n",
       "    .dataframe thead th {\n",
       "        text-align: right;\n",
       "    }\n",
       "</style>\n",
       "<table border=\"1\" class=\"dataframe\">\n",
       "  <thead>\n",
       "    <tr style=\"text-align: right;\">\n",
       "      <th></th>\n",
       "      <th>country_name</th>\n",
       "      <th>field_age</th>\n",
       "      <th>field_depth</th>\n",
       "      <th>production</th>\n",
       "      <th>api</th>\n",
       "      <th>h2s</th>\n",
       "      <th>Emission</th>\n",
       "      <th>Winsorized Emission</th>\n",
       "      <th>united_kingdom</th>\n",
       "      <th>norway</th>\n",
       "    </tr>\n",
       "  </thead>\n",
       "  <tbody>\n",
       "    <tr>\n",
       "      <th>0</th>\n",
       "      <td>United Kingdom</td>\n",
       "      <td>0.0</td>\n",
       "      <td>6000.65625</td>\n",
       "      <td>44000.0</td>\n",
       "      <td>19.4</td>\n",
       "      <td>1.25</td>\n",
       "      <td>5.427825</td>\n",
       "      <td>5.427825</td>\n",
       "      <td>1</td>\n",
       "      <td>0</td>\n",
       "    </tr>\n",
       "    <tr>\n",
       "      <th>1</th>\n",
       "      <td>United Kingdom</td>\n",
       "      <td>1.0</td>\n",
       "      <td>6000.65625</td>\n",
       "      <td>69500.0</td>\n",
       "      <td>19.4</td>\n",
       "      <td>1.25</td>\n",
       "      <td>5.419328</td>\n",
       "      <td>5.419328</td>\n",
       "      <td>1</td>\n",
       "      <td>0</td>\n",
       "    </tr>\n",
       "    <tr>\n",
       "      <th>2</th>\n",
       "      <td>United Kingdom</td>\n",
       "      <td>2.0</td>\n",
       "      <td>6000.65625</td>\n",
       "      <td>69930.0</td>\n",
       "      <td>19.4</td>\n",
       "      <td>1.25</td>\n",
       "      <td>5.425938</td>\n",
       "      <td>5.425938</td>\n",
       "      <td>1</td>\n",
       "      <td>0</td>\n",
       "    </tr>\n",
       "    <tr>\n",
       "      <th>3</th>\n",
       "      <td>United Kingdom</td>\n",
       "      <td>3.0</td>\n",
       "      <td>6000.65625</td>\n",
       "      <td>90865.0</td>\n",
       "      <td>19.4</td>\n",
       "      <td>1.25</td>\n",
       "      <td>5.433522</td>\n",
       "      <td>5.433522</td>\n",
       "      <td>1</td>\n",
       "      <td>0</td>\n",
       "    </tr>\n",
       "    <tr>\n",
       "      <th>4</th>\n",
       "      <td>United Kingdom</td>\n",
       "      <td>4.0</td>\n",
       "      <td>6000.65625</td>\n",
       "      <td>80910.0</td>\n",
       "      <td>19.4</td>\n",
       "      <td>1.25</td>\n",
       "      <td>5.446432</td>\n",
       "      <td>5.446432</td>\n",
       "      <td>1</td>\n",
       "      <td>0</td>\n",
       "    </tr>\n",
       "  </tbody>\n",
       "</table>\n",
       "</div>"
      ],
      "text/plain": [
       "     country_name  field_age  field_depth  production   api   h2s  Emission  \\\n",
       "0  United Kingdom        0.0   6000.65625     44000.0  19.4  1.25  5.427825   \n",
       "1  United Kingdom        1.0   6000.65625     69500.0  19.4  1.25  5.419328   \n",
       "2  United Kingdom        2.0   6000.65625     69930.0  19.4  1.25  5.425938   \n",
       "3  United Kingdom        3.0   6000.65625     90865.0  19.4  1.25  5.433522   \n",
       "4  United Kingdom        4.0   6000.65625     80910.0  19.4  1.25  5.446432   \n",
       "\n",
       "   Winsorized Emission  united_kingdom  norway  \n",
       "0             5.427825               1       0  \n",
       "1             5.419328               1       0  \n",
       "2             5.425938               1       0  \n",
       "3             5.433522               1       0  \n",
       "4             5.446432               1       0  "
      ]
     },
     "execution_count": 140,
     "metadata": {},
     "output_type": "execute_result"
    }
   ],
   "source": [
    "#Filling the missing values - Median\n",
    "\n",
    "opgee.loc[opgee['h2s'].isnull(), 'h2s'] = np.median(opgee.loc[opgee['h2s'].notnull(), 'h2s'])\n",
    "opgee.loc[opgee['api'].isnull(), 'api'] = np.median(opgee.loc[opgee['api'].notnull(), 'api'])\n",
    "opgee['united_kingdom'] = opgee.apply(lambda x: 1 if x['country_name'] == 'United Kingdom' else 0, axis = 1)\n",
    "opgee['norway'] = opgee.apply(lambda x: 1 if x['country_name'] == 'Norway' else 0, axis = 1)\n",
    "opgee.head()"
   ]
  },
  {
   "cell_type": "markdown",
   "id": "b37807c4",
   "metadata": {},
   "source": [
    "To fill in the missing values of h2s, a Random Forest is used; given the low MSE, the strategy is successful."
   ]
  },
  {
   "cell_type": "code",
   "execution_count": 70,
   "id": "a7efac36",
   "metadata": {},
   "outputs": [
    {
     "name": "stderr",
     "output_type": "stream",
     "text": [
      "100%|████████████████████████████████████████████████████████████████████████████████████| 7/7 [00:14<00:00,  2.13s/it]"
     ]
    },
    {
     "name": "stdout",
     "output_type": "stream",
     "text": [
      "Mean MSE: 0.07746157668380968\n",
      "Std MSE: 0.02698633971662819\n"
     ]
    },
    {
     "name": "stderr",
     "output_type": "stream",
     "text": [
      "\n"
     ]
    }
   ],
   "source": [
    "# Prediction of null values: h2s\n",
    "\n",
    "opgee['united_kingdom'] = opgee.apply(lambda x: 1 if x['country_name'] == 'United Kingdom' else 0, axis = 1)\n",
    "opgee_notnull_h2s = opgee[opgee['h2s'].notnull()].reset_index(drop = True)\n",
    "x = opgee_notnull_h2s.loc[:, ['field_age', 'field_depth', 'production','united_kingdom']]\n",
    "x = np.array(x).reshape(-1, 4)\n",
    "y = opgee_notnull_h2s['h2s']\n",
    "\n",
    "mses_1, importances_1 = cross_validation(x,y)\n",
    "print(f'Mean MSE: {mses_1.mean()}')\n",
    "print(f'Std MSE: {mses_1.std()}')"
   ]
  },
  {
   "cell_type": "markdown",
   "id": "0a5793b7",
   "metadata": {},
   "source": [
    "To fill in the missing values of api, Random Forest proves to be the most effective algorithm."
   ]
  },
  {
   "cell_type": "code",
   "execution_count": 40,
   "id": "404ff96a",
   "metadata": {},
   "outputs": [
    {
     "name": "stderr",
     "output_type": "stream",
     "text": [
      "100%|████████████████████████████████████████████████████████████████████████████████████| 7/7 [00:21<00:00,  3.13s/it]\n",
      " 14%|████████████                                                                        | 1/7 [00:00<00:00,  7.46it/s]"
     ]
    },
    {
     "name": "stdout",
     "output_type": "stream",
     "text": [
      "Model: Random Forest\n",
      "Mean MSE: 13.608805969361702\n",
      "Std MSE: 2.264995273596783\n"
     ]
    },
    {
     "name": "stderr",
     "output_type": "stream",
     "text": [
      "100%|████████████████████████████████████████████████████████████████████████████████████| 7/7 [00:01<00:00,  6.77it/s]\n",
      "  0%|                                                                                            | 0/7 [00:00<?, ?it/s]"
     ]
    },
    {
     "name": "stdout",
     "output_type": "stream",
     "text": [
      "Model: KNN\n",
      "Mean MSE: 70.38903480194035\n",
      "Std MSE: 4.256245185373581\n"
     ]
    },
    {
     "name": "stderr",
     "output_type": "stream",
     "text": [
      "100%|████████████████████████████████████████████████████████████████████████████████████| 7/7 [00:03<00:00,  2.23it/s]"
     ]
    },
    {
     "name": "stdout",
     "output_type": "stream",
     "text": [
      "Model: Bagging\n",
      "Mean MSE: 15.00260626714183\n",
      "Std MSE: 2.4058709912504104\n"
     ]
    },
    {
     "name": "stderr",
     "output_type": "stream",
     "text": [
      "\n"
     ]
    }
   ],
   "source": [
    "# Prediction of null values: api\n",
    "\n",
    "opgee_notnull_api = opgee[opgee['api'].notnull()].reset_index(drop = True)\n",
    "x = opgee_notnull_api.loc[:, ['field_age', 'field_depth', 'production','united_kingdom']]\n",
    "x = np.array(x).reshape(-1, 4)\n",
    "y = opgee_notnull_api['api']\n",
    "\n",
    "mses_1, importances_1 = cross_validation(x,y)\n",
    "print('Model: Random Forest')\n",
    "print(f'Mean MSE: {mses_1.mean()}')\n",
    "print(f'Std MSE: {mses_1.std()}')\n",
    "\n",
    "mses_1, importances_1 = cross_validation(x,y, model = KNeighborsRegressor())\n",
    "print('Model: KNN')\n",
    "print(f'Mean MSE: {mses_1.mean()}')\n",
    "print(f'Std MSE: {mses_1.std()}')\n",
    "\n",
    "mses_1, importances_1 = cross_validation(x,y, model = BaggingRegressor())\n",
    "print('Model: Bagging')\n",
    "print(f'Mean MSE: {mses_1.mean()}')\n",
    "print(f'Std MSE: {mses_1.std()}')"
   ]
  },
  {
   "cell_type": "code",
   "execution_count": 56,
   "id": "a9308d27",
   "metadata": {},
   "outputs": [
    {
     "name": "stderr",
     "output_type": "stream",
     "text": [
      "100%|████████████████████████████████████████████████████████████████████████████████████| 7/7 [00:25<00:00,  3.67s/it]\n",
      "100%|████████████████████████████████████████████████████████████████████████████████████| 7/7 [00:27<00:00,  3.91s/it]\n",
      "100%|████████████████████████████████████████████████████████████████████████████████████| 7/7 [00:31<00:00,  4.47s/it]\n",
      "100%|████████████████████████████████████████████████████████████████████████████████████| 7/7 [00:35<00:00,  5.05s/it]\n",
      "100%|████████████████████████████████████████████████████████████████████████████████████| 7/7 [00:41<00:00,  5.88s/it]\n",
      "100%|████████████████████████████████████████████████████████████████████████████████████| 7/7 [00:41<00:00,  5.90s/it]\n"
     ]
    },
    {
     "data": {
      "image/png": "[encoded data removed]",
      "text/plain": [
       "<Figure size 432x288 with 1 Axes>"
      ]
     },
     "metadata": {
      "needs_background": "light"
     },
     "output_type": "display_data"
    }
   ],
   "source": [
    "# Random Forest for different numbers of estimators\n",
    "\n",
    "all_mses = []\n",
    "n_estimators = np.arange(100,201,20)\n",
    "for i in range(len(n_estimators)):\n",
    "    mses_1, importances_1 = cross_validation(x,y, model = RandomForestRegressor(n_estimators = n_estimators[i]))\n",
    "    all_mses.append(mses_1.mean())\n",
    "                                             \n",
    "plt.bar([str(n_estimators[i]) for i in range(len(n_estimators))], all_mses)\n",
    "plt.xlabel('N_Estimators')\n",
    "plt.show()"
   ]
  },
  {
   "cell_type": "code",
   "execution_count": 59,
   "id": "eeee5c61",
   "metadata": {},
   "outputs": [
    {
     "name": "stderr",
     "output_type": "stream",
     "text": [
      "100%|████████████████████████████████████████████████████████████████████████████████████| 7/7 [00:21<00:00,  3.06s/it]\n",
      "100%|████████████████████████████████████████████████████████████████████████████████████| 7/7 [00:15<00:00,  2.17s/it]\n",
      "100%|████████████████████████████████████████████████████████████████████████████████████| 7/7 [00:15<00:00,  2.19s/it]\n",
      "100%|████████████████████████████████████████████████████████████████████████████████████| 7/7 [00:13<00:00,  1.92s/it]\n",
      "100%|████████████████████████████████████████████████████████████████████████████████████| 7/7 [00:12<00:00,  1.84s/it]\n",
      "100%|████████████████████████████████████████████████████████████████████████████████████| 7/7 [00:10<00:00,  1.49s/it]\n"
     ]
    },
    {
     "data": {
      "image/png": "[encoded data removed]",
      "text/plain": [
       "<Figure size 432x288 with 1 Axes>"
      ]
     },
     "metadata": {
      "needs_background": "light"
     },
     "output_type": "display_data"
    }
   ],
   "source": [
    "#Random Forest for different leaf sizes\n",
    "\n",
    "all_mses = []\n",
    "min_sample_leaf = np.arange(1,52,10)\n",
    "for i in range(len(n_estimators)):\n",
    "    mses_1, importances_1 = cross_validation(x,y, model = RandomForestRegressor(min_samples_leaf = min_sample_leaf[i]))\n",
    "    all_mses.append(mses_1.mean())\n",
    "                                             \n",
    "plt.bar([str(min_sample_leaf[i]) for i in range(len(min_sample_leaf))], all_mses)\n",
    "plt.xlabel('min_sample_leaf')\n",
    "plt.show()"
   ]
  },
  {
   "cell_type": "markdown",
   "id": "1df6e5d2",
   "metadata": {},
   "source": [
    "After verifying the most effective ML algorithms, the missing values of h2s and api are filled in."
   ]
  },
  {
   "cell_type": "code",
   "execution_count": 71,
   "id": "321b5cb7",
   "metadata": {},
   "outputs": [],
   "source": [
    "# Filling Missing Values with ML predictions\n",
    "\n",
    "model = RandomForestRegressor()\n",
    "opgee_notnull_api = opgee[opgee['api'].notnull()].reset_index(drop = True)\n",
    "x = opgee_notnull_api.loc[:, ['field_age', 'field_depth', 'production','united_kingdom']]\n",
    "x = np.array(x).reshape(-1, 4)\n",
    "y = np.array(opgee_notnull_api['api'])\n",
    "model.fit(x,y)\n",
    "\n",
    "new_x = np.array(opgee.loc[opgee['api'].isnull(), ['field_age', 'field_depth', 'production','united_kingdom']]).reshape(-1,4)\n",
    "new_api = model.predict(new_x)\n",
    "opgee.loc[opgee['api'].isnull(), 'api'] = new_api\n",
    "\n",
    "model = RandomForestRegressor()\n",
    "opgee_notnull_h2s = opgee[opgee['h2s'].notnull()].reset_index(drop = True)\n",
    "x = opgee_notnull_h2s.loc[:, ['field_age', 'field_depth', 'production','united_kingdom']]\n",
    "x = np.array(x).reshape(-1, 4)\n",
    "y = np.array(opgee_notnull_h2s['h2s'])\n",
    "model.fit(x,y)\n",
    "\n",
    "new_x = np.array(opgee.loc[opgee['h2s'].isnull(), ['field_age', 'field_depth', 'production','united_kingdom']]).reshape(-1, 4)\n",
    "new_h2s = model.predict(new_x)\n",
    "opgee.loc[opgee['h2s'].isnull(), 'h2s'] = new_h2s"
   ]
  },
  {
   "cell_type": "markdown",
   "id": "ce3ddc6e",
   "metadata": {},
   "source": [
    "## 3.3 - Random Forest"
   ]
  },
  {
   "cell_type": "markdown",
   "id": "759cf2ff",
   "metadata": {},
   "source": [
    "In this section, Random Forest is run for emissions predictions, using the obtained training set in the previous sections.\n",
    "Random Forest with default values proves to be the most accurate algorithm, with MSE equal to 0.002. "
   ]
  },
  {
   "cell_type": "code",
   "execution_count": 23,
   "id": "1418ffbf",
   "metadata": {},
   "outputs": [],
   "source": [
    "opgee = pd.read_csv('OPGEE_Training_Data.csv').drop('Unnamed: 0', axis = 1)"
   ]
  },
  {
   "cell_type": "code",
   "execution_count": 29,
   "id": "0dc45a02",
   "metadata": {},
   "outputs": [
    {
     "name": "stderr",
     "output_type": "stream",
     "text": [
      "100%|████████████████████████████████████████████████████████████████████████████████████| 7/7 [00:48<00:00,  6.91s/it]\n"
     ]
    },
    {
     "name": "stdout",
     "output_type": "stream",
     "text": [
      "Mean MSE: 0.0021424582852625352\n",
      "Std MSE: 0.0005572575744657374\n"
     ]
    },
    {
     "data": {
      "image/png": "[encoded data removed]",
      "text/plain": [
       "<Figure size 432x288 with 1 Axes>"
      ]
     },
     "metadata": {
      "needs_background": "light"
     },
     "output_type": "display_data"
    }
   ],
   "source": [
    "#All Regressors - Random Forest\n",
    "\n",
    "x = opgee.loc[:, ['field_age', 'field_depth', 'production', 'api', 'h2s', 'united_kingdom']]\n",
    "x = np.array(x).reshape(-1, 6)\n",
    "y = opgee['Winsorized Emission']\n",
    "\n",
    "mses_1, importances_1 = cross_validation(x,y)\n",
    "print(f'Mean MSE: {mses_1.mean()}')\n",
    "print(f'Std MSE: {mses_1.std()}')\n",
    "\n",
    "plt.bar(['field_age', 'field_depth', 'production', 'api', 'h2s', 'united_kingdom'], importances_1, color = 'blue')\n",
    "plt.xticks(rotation = 90)\n",
    "plt.title('Feature Importances')\n",
    "plt.show()"
   ]
  },
  {
   "cell_type": "code",
   "execution_count": 109,
   "id": "370742f7",
   "metadata": {},
   "outputs": [
    {
     "name": "stderr",
     "output_type": "stream",
     "text": [
      "100%|████████████████████████████████████████████████████████████████████████████████████| 7/7 [00:56<00:00,  8.07s/it]\n",
      "100%|████████████████████████████████████████████████████████████████████████████████████| 7/7 [00:31<00:00,  4.54s/it]\n",
      "100%|████████████████████████████████████████████████████████████████████████████████████| 7/7 [00:28<00:00,  4.08s/it]\n",
      "100%|████████████████████████████████████████████████████████████████████████████████████| 7/7 [00:25<00:00,  3.66s/it]\n",
      "100%|████████████████████████████████████████████████████████████████████████████████████| 7/7 [00:24<00:00,  3.43s/it]\n",
      "100%|████████████████████████████████████████████████████████████████████████████████████| 7/7 [00:22<00:00,  3.20s/it]\n"
     ]
    },
    {
     "data": {
      "image/png": "[encoded data removed]",
      "text/plain": [
       "<Figure size 432x288 with 1 Axes>"
      ]
     },
     "metadata": {
      "needs_background": "light"
     },
     "output_type": "display_data"
    }
   ],
   "source": [
    "#Random forest for different leaf sizes\n",
    "\n",
    "all_mses = []\n",
    "min_sample_leaf = np.arange(1,52,10)\n",
    "for i in range(len(min_sample_leaf)):\n",
    "    mses_1, importances_1 = cross_validation(x,y, model = RandomForestRegressor(min_samples_leaf = min_sample_leaf[i]))\n",
    "    all_mses.append(mses_1.mean())\n",
    "                                             \n",
    "plt.bar([str(min_sample_leaf[i]) for i in range(len(min_sample_leaf))], all_mses)\n",
    "plt.xlabel('min_sample_leaf')\n",
    "plt.show()"
   ]
  },
  {
   "cell_type": "code",
   "execution_count": 196,
   "id": "02cb4f5f",
   "metadata": {},
   "outputs": [
    {
     "data": {
      "image/png": "[encoded data removed]",
      "text/plain": [
       "<Figure size 432x288 with 1 Axes>"
      ]
     },
     "metadata": {
      "needs_background": "light"
     },
     "output_type": "display_data"
    }
   ],
   "source": [
    "#Distributions by country name\n",
    "\n",
    "plt.hist(opgee.loc[opgee['country_name'] == 'United Kingdom', 'Winsorized Emission'], bins = 40, density = True, color = 'red', label = 'United Kingdom')\n",
    "plt.hist(opgee.loc[opgee['country_name'] == 'Norway', 'Winsorized Emission'], bins = 40, density = True, color = 'blue', label = 'Norway')\n",
    "plt.legend()\n",
    "plt.title('Emissions Distribution by Country')\n",
    "plt.show()"
   ]
  },
  {
   "cell_type": "markdown",
   "id": "fd178967",
   "metadata": {},
   "source": [
    "Given that the country plays an important role for prediction purposes, it is possible to run a Random Forest without such variable, to evaluate the relative importance of the remaining attributes."
   ]
  },
  {
   "cell_type": "code",
   "execution_count": 103,
   "id": "2b6d3d38",
   "metadata": {},
   "outputs": [
    {
     "name": "stderr",
     "output_type": "stream",
     "text": [
      "100%|████████████████████████████████████████████████████████████████████████████████████| 7/7 [00:47<00:00,  6.82s/it]\n"
     ]
    },
    {
     "name": "stdout",
     "output_type": "stream",
     "text": [
      "Mean MSE: 0.021119774473781622\n",
      "Std MSE: 0.003510024441941696\n"
     ]
    },
    {
     "data": {
      "image/png": "[encoded data removed]",
      "text/plain": [
       "<Figure size 432x288 with 1 Axes>"
      ]
     },
     "metadata": {
      "needs_background": "light"
     },
     "output_type": "display_data"
    }
   ],
   "source": [
    "# Without country name\n",
    "\n",
    "x = opgee.loc[:, ['field_age', 'field_depth', 'production', 'api', 'h2s']]\n",
    "x = np.array(x).reshape(-1, 5)\n",
    "y = opgee['Winsorized Emission']\n",
    "\n",
    "mses_1, importances_1 = cross_validation(x,y)\n",
    "\n",
    "print(f'Mean MSE: {mses_1.mean()}')\n",
    "print(f'Std MSE: {mses_1.std()}')\n",
    "\n",
    "plt.bar(['field_age', 'field_depth', 'production', 'api', 'h2s'], importances_1, color = 'blue')\n",
    "plt.xticks(rotation = 90)\n",
    "plt.title('Feature Importances')\n",
    "plt.show()"
   ]
  },
  {
   "cell_type": "markdown",
   "id": "ce884bd0",
   "metadata": {},
   "source": [
    "## Neural Network"
   ]
  },
  {
   "cell_type": "code",
   "execution_count": 9,
   "id": "1c05e7be",
   "metadata": {},
   "outputs": [],
   "source": [
    "opgee = pd.read_csv('OPGEE_Training_Data.csv').drop('Unnamed: 0', axis = 1)\n",
    "x = opgee.loc[:, ['field_age', 'field_depth', 'production', 'api', 'h2s', 'united_kingdom']]\n",
    "x = np.array(x).reshape(-1, 6)\n",
    "y = opgee['Winsorized Emission']"
   ]
  },
  {
   "cell_type": "code",
   "execution_count": 89,
   "id": "d55a7902",
   "metadata": {},
   "outputs": [
    {
     "name": "stderr",
     "output_type": "stream",
     "text": [
      "100%|████████████████████████████████████████████████████████████████████████████████████| 7/7 [00:24<00:00,  3.55s/it]"
     ]
    },
    {
     "name": "stdout",
     "output_type": "stream",
     "text": [
      "Mean MSE: 0.1844428289835062\n",
      "Std MSE: 0.006286165047951502\n"
     ]
    },
    {
     "name": "stderr",
     "output_type": "stream",
     "text": [
      "\n"
     ]
    }
   ],
   "source": [
    "# All Regressors - MLP\n",
    "\n",
    "mses_1, importances_1 = cross_validation(x,y, model = MLPRegressor(hidden_layer_sizes = (150,), activation = 'logistic'))\n",
    "print(f'Mean MSE: {mses_1.mean()}')\n",
    "print(f'Std MSE: {mses_1.std()}')"
   ]
  },
  {
   "cell_type": "code",
   "execution_count": 17,
   "id": "a29f222c",
   "metadata": {},
   "outputs": [
    {
     "name": "stderr",
     "output_type": "stream",
     "text": [
      "100%|████████████████████████████████████████████████████████████████████████████████████| 7/7 [00:18<00:00,  2.60s/it]\n",
      "100%|████████████████████████████████████████████████████████████████████████████████████| 7/7 [00:29<00:00,  4.20s/it]\n",
      "100%|████████████████████████████████████████████████████████████████████████████████████| 7/7 [00:20<00:00,  2.86s/it]\n",
      "100%|████████████████████████████████████████████████████████████████████████████████████| 7/7 [00:23<00:00,  3.35s/it]\n",
      "100%|████████████████████████████████████████████████████████████████████████████████████| 7/7 [00:26<00:00,  3.73s/it]\n",
      "100%|████████████████████████████████████████████████████████████████████████████████████| 7/7 [00:30<00:00,  4.31s/it]\n"
     ]
    },
    {
     "data": {
      "image/png": "[encoded data removed]",
      "text/plain": [
       "<Figure size 432x288 with 1 Axes>"
      ]
     },
     "metadata": {
      "needs_background": "light"
     },
     "output_type": "display_data"
    }
   ],
   "source": [
    "n_layers = (25, 50, 75, 100, 125, 150)\n",
    "all_mses = []\n",
    "\n",
    "for n in n_layers:\n",
    "    mses_1 = cross_validation(x,y, model = MLPRegressor(hidden_layer_sizes = (n,), activation = 'logistic'))[0]\n",
    "    all_mses.append(mses_1.mean())\n",
    "\n",
    "plt.bar([str(n) for n in n_layers], all_mses, color = 'blue')\n",
    "plt.title('Number of Layers')\n",
    "plt.ylabel('MSE')\n",
    "plt.show()"
   ]
  },
  {
   "cell_type": "code",
   "execution_count": 10,
   "id": "799fd3ec",
   "metadata": {},
   "outputs": [
    {
     "name": "stderr",
     "output_type": "stream",
     "text": [
      "100%|████████████████████████████████████████████████████████████████████████████████████| 7/7 [01:22<00:00, 11.75s/it]\n",
      "100%|████████████████████████████████████████████████████████████████████████████████████| 7/7 [01:37<00:00, 13.93s/it]\n",
      "100%|████████████████████████████████████████████████████████████████████████████████████| 7/7 [01:30<00:00, 12.90s/it]\n"
     ]
    },
    {
     "data": {
      "image/png": "[encoded data removed]",
      "text/plain": [
       "<Figure size 432x288 with 1 Axes>"
      ]
     },
     "metadata": {
      "needs_background": "light"
     },
     "output_type": "display_data"
    }
   ],
   "source": [
    "n_layers = (100, 50, 25)\n",
    "all_mses = []\n",
    "\n",
    "for n in n_layers:\n",
    "    mses_1 = cross_validation(x,y, model = MLPRegressor(hidden_layer_sizes = (150,n), activation = 'logistic'))[0]\n",
    "    all_mses.append(mses_1.mean())\n",
    "\n",
    "plt.bar([str(n) for n in n_layers], all_mses, color = 'blue')\n",
    "plt.title('Number of Second Layers')\n",
    "plt.ylabel('MSE')\n",
    "plt.show()"
   ]
  },
  {
   "cell_type": "code",
   "execution_count": 11,
   "id": "99aa1368",
   "metadata": {},
   "outputs": [
    {
     "name": "stderr",
     "output_type": "stream",
     "text": [
      "100%|████████████████████████████████████████████████████████████████████████████████████| 7/7 [02:09<00:00, 18.56s/it]\n",
      "100%|████████████████████████████████████████████████████████████████████████████████████| 7/7 [02:12<00:00, 18.88s/it]\n",
      "100%|████████████████████████████████████████████████████████████████████████████████████| 7/7 [02:35<00:00, 22.24s/it]\n"
     ]
    },
    {
     "data": {
      "image/png": "[encoded data removed]",
      "text/plain": [
       "<Figure size 432x288 with 1 Axes>"
      ]
     },
     "metadata": {
      "needs_background": "light"
     },
     "output_type": "display_data"
    }
   ],
   "source": [
    "n_layers = (75, 50, 25)\n",
    "all_mses = []\n",
    "\n",
    "for n in n_layers:\n",
    "    mses_1 = cross_validation(x,y, model = MLPRegressor(hidden_layer_sizes = (150,100,n), activation = 'logistic'))[0]\n",
    "    all_mses.append(mses_1.mean())\n",
    "\n",
    "plt.bar([str(n) for n in n_layers], all_mses, color = 'blue')\n",
    "plt.title('Number of Third Layers')\n",
    "plt.ylabel('MSE')\n",
    "plt.show()"
   ]
  },
  {
   "cell_type": "code",
   "execution_count": 16,
   "id": "557ced9b",
   "metadata": {},
   "outputs": [
    {
     "name": "stderr",
     "output_type": "stream",
     "text": [
      "100%|████████████████████████████████████████████████████████████████████████████████████| 7/7 [00:29<00:00,  4.26s/it]\n",
      "100%|████████████████████████████████████████████████████████████████████████████████████| 7/7 [01:10<00:00, 10.10s/it]\n",
      "100%|████████████████████████████████████████████████████████████████████████████████████| 7/7 [01:31<00:00, 13.14s/it]\n"
     ]
    },
    {
     "data": {
      "image/png": "[encoded data removed]",
      "text/plain": [
       "<Figure size 432x288 with 1 Axes>"
      ]
     },
     "metadata": {
      "needs_background": "light"
     },
     "output_type": "display_data"
    }
   ],
   "source": [
    "alphas = [0.0001, 5, 10]\n",
    "all_mses = []\n",
    "\n",
    "for alpha in alphas:\n",
    "    mses_1 = cross_validation(x,y, model = MLPRegressor(hidden_layer_sizes = (150,), activation = 'logistic', alpha = alpha))[0]\n",
    "    all_mses.append(mses_1.mean())\n",
    "\n",
    "plt.bar([str(alpha) for alpha in alphas], all_mses, color = 'blue')\n",
    "plt.title('Regularization Term')\n",
    "plt.ylabel('MSE')\n",
    "plt.show()"
   ]
  },
  {
   "cell_type": "code",
   "execution_count": 22,
   "id": "6cfd220c",
   "metadata": {},
   "outputs": [
    {
     "name": "stderr",
     "output_type": "stream",
     "text": [
      "100%|████████████████████████████████████████████████████████████████████████████████████| 7/7 [00:26<00:00,  3.73s/it]\n",
      "100%|████████████████████████████████████████████████████████████████████████████████████| 7/7 [00:24<00:00,  3.50s/it]\n",
      "100%|████████████████████████████████████████████████████████████████████████████████████| 7/7 [00:31<00:00,  4.52s/it]\n",
      "100%|████████████████████████████████████████████████████████████████████████████████████| 7/7 [00:24<00:00,  3.51s/it]\n"
     ]
    },
    {
     "data": {
      "image/png": "[encoded data removed]",
      "text/plain": [
       "<Figure size 432x288 with 1 Axes>"
      ]
     },
     "metadata": {
      "needs_background": "light"
     },
     "output_type": "display_data"
    }
   ],
   "source": [
    "max_iters = [50,200, 1200, 2000]\n",
    "all_mses = []\n",
    "\n",
    "for max_iter in max_iters:\n",
    "    mses_1 = cross_validation(x,y, model = MLPRegressor(hidden_layer_sizes = (150,), activation = 'logistic', max_iter = max_iter))[0]\n",
    "    all_mses.append(mses_1.mean())\n",
    "\n",
    "plt.bar([str(max_iter) for max_iter in max_iters], all_mses, color = 'blue')\n",
    "plt.title('Max Iterations')\n",
    "plt.ylabel('MSE')\n",
    "plt.show()"
   ]
  },
  {
   "cell_type": "code",
   "execution_count": 24,
   "id": "17f99232",
   "metadata": {},
   "outputs": [
    {
     "name": "stderr",
     "output_type": "stream",
     "text": [
      "100%|████████████████████████████████████████████████████████████████████████████████████| 7/7 [00:47<00:00,  6.79s/it]\n",
      "100%|████████████████████████████████████████████████████████████████████████████████████| 7/7 [00:59<00:00,  8.54s/it]\n",
      "100%|████████████████████████████████████████████████████████████████████████████████████| 7/7 [01:09<00:00,  9.93s/it]\n",
      "100%|████████████████████████████████████████████████████████████████████████████████████| 7/7 [01:01<00:00,  8.82s/it]\n"
     ]
    },
    {
     "data": {
      "image/png": "[encoded data removed]",
      "text/plain": [
       "<Figure size 432x288 with 1 Axes>"
      ]
     },
     "metadata": {
      "needs_background": "light"
     },
     "output_type": "display_data"
    }
   ],
   "source": [
    "batch_sizes = [600, 1000, 1200, 1400]\n",
    "all_mses = []\n",
    "\n",
    "for batch_size in batch_sizes:\n",
    "    mses_1 = cross_validation(x,y, model = MLPRegressor(hidden_layer_sizes = (150,), activation = 'logistic', batch_size = batch_size))[0]\n",
    "    all_mses.append(mses_1.mean())\n",
    "\n",
    "plt.bar([str(batch_size) for batch_size in batch_sizes], all_mses, color = 'blue')\n",
    "plt.title('Batch Sizes')\n",
    "plt.ylabel('MSE')\n",
    "plt.show()"
   ]
  },
  {
   "cell_type": "code",
   "execution_count": 25,
   "id": "e2f6a5d3",
   "metadata": {},
   "outputs": [
    {
     "name": "stderr",
     "output_type": "stream",
     "text": [
      "100%|████████████████████████████████████████████████████████████████████████████████████| 7/7 [00:20<00:00,  2.89s/it]\n",
      "100%|████████████████████████████████████████████████████████████████████████████████████| 7/7 [03:53<00:00, 33.29s/it]\n",
      "100%|████████████████████████████████████████████████████████████████████████████████████| 7/7 [03:20<00:00, 28.61s/it]\n",
      "100%|████████████████████████████████████████████████████████████████████████████████████| 7/7 [11:04<00:00, 94.98s/it]\n"
     ]
    },
    {
     "data": {
      "image/png": "[encoded data removed]",
      "text/plain": [
       "<Figure size 432x288 with 1 Axes>"
      ]
     },
     "metadata": {
      "needs_background": "light"
     },
     "output_type": "display_data"
    }
   ],
   "source": [
    "hidden_layers = [(100,), (200, 150, 100, 50, 25), (100, 75, 50, 25), (400, 300, 250, 200, 150, 125, 100, 75, 50, 25)]\n",
    "all_mses = []\n",
    "\n",
    "for hidden_layer in hidden_layers:\n",
    "    mses_1 = cross_validation(x,y, model = MLPRegressor(hidden_layer_sizes = hidden_layer, activation = 'logistic'))[0]\n",
    "    all_mses.append(mses_1.mean())\n",
    "\n",
    "plt.bar([str(hidden_layer) for hidden_layer in hidden_layers], all_mses, color = 'blue')\n",
    "plt.xticks(rotation = 90)\n",
    "plt.title('Hidden Layer')\n",
    "plt.ylabel('MSE')\n",
    "plt.show()"
   ]
  },
  {
   "cell_type": "code",
   "execution_count": 29,
   "id": "9cc422f2",
   "metadata": {},
   "outputs": [
    {
     "name": "stderr",
     "output_type": "stream",
     "text": [
      "100%|████████████████████████████████████████████████████████████████████████████████████| 7/7 [00:21<00:00,  3.05s/it]\n",
      "100%|████████████████████████████████████████████████████████████████████████████████████| 7/7 [02:34<00:00, 22.05s/it]\n",
      "100%|████████████████████████████████████████████████████████████████████████████████████| 7/7 [00:23<00:00,  3.35s/it]\n",
      "100%|████████████████████████████████████████████████████████████████████████████████████| 7/7 [01:30<00:00, 12.99s/it]\n",
      "100%|████████████████████████████████████████████████████████████████████████████████████| 7/7 [00:17<00:00,  2.55s/it]\n",
      "100%|████████████████████████████████████████████████████████████████████████████████████| 7/7 [00:38<00:00,  5.57s/it]\n",
      "100%|████████████████████████████████████████████████████████████████████████████████████| 7/7 [01:29<00:00, 12.84s/it]\n",
      "100%|████████████████████████████████████████████████████████████████████████████████████| 7/7 [00:11<00:00,  1.70s/it]\n",
      "100%|████████████████████████████████████████████████████████████████████████████████████| 7/7 [00:30<00:00,  4.34s/it]\n"
     ]
    },
    {
     "data": {
      "image/png": "[encoded data removed]",
      "text/plain": [
       "<Figure size 432x288 with 1 Axes>"
      ]
     },
     "metadata": {
      "needs_background": "light"
     },
     "output_type": "display_data"
    }
   ],
   "source": [
    "hidden_layers = [(100,), (100, 75, 50, 25,), (75,), (75, 50, 25,), (50,), (50,25,),(50,40,30,20,10), (25,), (25,13,)]\n",
    "all_mses = []\n",
    "\n",
    "for hidden_layer in hidden_layers:\n",
    "    mses_1 = cross_validation(x,y, model = MLPRegressor(hidden_layer_sizes = hidden_layer, activation = 'logistic'))[0]\n",
    "    all_mses.append(mses_1.mean())\n",
    "\n",
    "plt.bar([str(hidden_layer) for hidden_layer in hidden_layers], all_mses, color = 'blue')\n",
    "plt.xticks(rotation = 90)\n",
    "plt.title('Hidden Layer')\n",
    "plt.ylabel('MSE')\n",
    "plt.show()"
   ]
  }
 ],
 "metadata": {
  "kernelspec": {
   "display_name": "Python 3",
   "language": "python",
   "name": "python3"
  },
  "language_info": {
   "codemirror_mode": {
    "name": "ipython",
    "version": 3
   },
   "file_extension": ".py",
   "mimetype": "text/x-python",
   "name": "python",
   "nbconvert_exporter": "python",
   "pygments_lexer": "ipython3",
   "version": "3.8.8"
  }
 },
 "nbformat": 4,
 "nbformat_minor": 5
}
